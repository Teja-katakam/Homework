{
  "cells": [
    {
      "cell_type": "markdown",
      "metadata": {
        "nbgrader": {
          "grade": false,
          "grade_id": "intro",
          "locked": true,
          "schema_version": 1,
          "solution": false
        },
        "id": "AJMvONz4bNRl"
      },
      "source": [
        "# Week 6 Exercises\n",
        "\n",
        "_McKinney 6.1_\n",
        "\n",
        "There are multiple ways to solve the problems below.  You can use any one of several approaches.  For example, you can read CSV files using Pandas or the csv module.  Your score won't depend on which modules you choose to use unless explicitly noted below, but your programming style will still matter."
      ]
    },
    {
      "cell_type": "markdown",
      "metadata": {
        "id": "FXbi2LE_bNRn"
      },
      "source": [
        "### 30.0 Create sample data in local directory"
      ]
    },
    {
      "cell_type": "code",
      "execution_count": 22,
      "metadata": {
        "id": "e9yNuuGybNRo"
      },
      "outputs": [],
      "source": [
        "import pickle\n",
        "\n",
        "raw = b'\\x80\\x04\\x95\\xac\\x10\\x00\\x00\\x00\\x00\\x00\\x00X\\xa5\\x10\\x00\\x00{\\n  \"entry\": [\\n    {\\n      \"resource\": {\\n        \"resourceType\": \"AllergyIntolerance\",\\n        \"recordedDate\": \"2015-08-24T23:11:36Z\",\\n        \"status\": \"confirmed\",\\n        \"criticality\": \"CRITL\",\\n        \"onset\": \"2012-11-07T00:00:00Z\",\\n        \"patient\": {\\n          \"display\": \"Jason Argonaut\"\\n        },\\n        \"substance\": {\\n          \"text\": \"PENICILLIN G\",\\n          \"coding\": [\\n            {\\n              \"system\": \"http://www.nlm.nih.gov/research/umls/rxnorm\",\\n              \"code\": \"7980\",\\n              \"display\": \"PENICILLIN G\"\\n            },\\n            {\\n              \"system\": \"http://fdasis.nlm.nih.gov\",\\n              \"code\": \"Q42T66VG0C\",\\n              \"display\": \"PENICILLIN G\"\\n            }\\n          ]\\n        },\\n        \"reaction\": [\\n          {\\n            \"certainty\": \"confirmed\",\\n            \"onset\": \"2012-11-07T00:00:00Z\",\\n            \"manifestation\": [\\n              {\\n                \"text\": \"Hives\"\\n              }\\n            ],\\n            \"note\": {\\n              \"text\": \"Severity low enough to be prescribed if needed.\"\\n            }\\n          }\\n        ],\\n        \"note\": {\\n          \"text\": \"Severity low enough to be prescribed if needed.\"\\n        }\\n      }\\n    },\\n    {\\n      \"resource\": {\\n        \"resourceType\": \"AllergyIntolerance\",\\n        \"recordedDate\": \"2015-11-07T20:55:10Z\",\\n        \"status\": \"confirmed\",\\n        \"criticality\": \"CRITL\",\\n        \"id\": \"TPcWiBG2h2E114Vh0sRT8fQB\",\\n        \"onset\": \"2010-05-02T00:00:00Z\",\\n        \"patient\": {\\n          \"display\": \"Jason Argonaut\"\\n        },\\n        \"substance\": {\\n          \"text\": \"SHELLFISH-DERIVED PRODUCTS\",\\n          \"coding\": [\\n            {\\n              \"system\": \"http://hl7.org/fhir/ndfrt\",\\n              \"code\": \"N0000007624\",\\n              \"display\": \"SHELLFISH-DERIVED PRODUCTS\"\\n            }\\n          ]\\n        },\\n        \"reaction\": [\\n          {\\n            \"certainty\": \"confirmed\",\\n            \"onset\": \"2010-05-02T00:00:00Z\",\\n            \"manifestation\": [\\n              {\\n                \"text\": \"Itching\"\\n              }\\n            ]\\n          }\\n        ]\\n      }\\n    },\\n    {\\n      \"resource\": {\\n        \"resourceType\": \"AllergyIntolerance\",\\n        \"recordedDate\": \"2015-11-07T20:56:34Z\",\\n        \"status\": \"confirmed\",\\n        \"criticality\": \"CRITH\",\\n        \"id\": \"TKebKfLXzu6Sp.LY-IpvpmQB\",\\n        \"onset\": \"2014-03-07T00:00:00Z\",\\n        \"patient\": {\\n          \"display\": \"Jason Argonaut\"\\n        },\\n        \"substance\": {\\n          \"text\": \"STRAWBERRY\",\\n          \"coding\": [\\n            {\\n              \"system\": \"http://www.nlm.nih.gov/research/umls/rxnorm\",\\n              \"code\": \"892484\",\\n              \"display\": \"STRAWBERRY\"\\n            },\\n            {\\n              \"system\": \"http://fdasis.nlm.nih.gov\",\\n              \"code\": \"4J2TY8Y81V\",\\n              \"display\": \"STRAWBERRY\"\\n            }\\n          ]\\n        },\\n        \"reaction\": [\\n          {\\n            \"certainty\": \"confirmed\",\\n            \"onset\": \"2014-03-07T00:00:00Z\",\\n            \"manifestation\": [\\n              {\\n                \"text\": \"Anaphylaxis\"\\n              }\\n            ]\\n          }\\n        ]\\n      }\\n    },\\n    {\\n      \"resource\": {\\n        \"resourceType\": \"AllergyIntolerance\",\\n        \"recordedDate\": \"2015-08-24T23:11:36Z\",\\n        \"status\": \"confirmed\",\\n        \"criticality\": \"CRITL\",\\n        \"onset\": \"1978-12-08T00:00:00Z\",\\n        \"patient\": {\\n          \"display\": \"Paul Boal\"\\n        },\\n        \"substance\": {\\n          \"text\": \"PENICILLIN G\",\\n          \"coding\": [\\n            {\\n              \"system\": \"http://www.nlm.nih.gov/research/umls/rxnorm\",\\n              \"code\": \"7980\",\\n              \"display\": \"PENICILLIN G\"\\n            },\\n            {\\n              \"system\": \"http://fdasis.nlm.nih.gov\",\\n              \"code\": \"Q42T66VG0C\",\\n              \"display\": \"PENICILLIN G\"\\n            }\\n          ]\\n        },\\n        \"reaction\": [\\n          {\\n            \"certainty\": \"confirmed\",\\n            \"onset\": \"1978-12-08T00:00:00Z\",\\n            \"manifestation\": [\\n              {\\n                \"text\": \"Bruising\"\\n              }\\n            ],\\n            \"note\": {\\n              \"text\": \"Do not prescribe!\"\\n            }\\n          }\\n        ],\\n        \"note\": {\\n          \"text\": \"Do not prescribe!\"\\n        }\\n      }\\n    }\\n  ]\\n}\\n\\x94.'\n",
        "json_data = pickle.loads(raw)\n",
        "\n",
        "with open(\"allergies.json\", \"w\") as f:\n",
        "    f.write(json_data)"
      ]
    },
    {
      "cell_type": "markdown",
      "metadata": {
        "nbgrader": {
          "grade": false,
          "grade_id": "q1-description",
          "locked": true,
          "schema_version": 1,
          "solution": false
        },
        "id": "iHuOb5ogbNRp"
      },
      "source": [
        "### 30.1 List of Allergies\n",
        "\n",
        "After running 30.0 to create your input data file, there is a file called `allergies.json` that contains a list of patient allergies. It is taken from sample data provided by the EHR vendor, Epic, here: https://open.epic.com/Clinical/Allergy\n",
        "\n",
        "Take some time to look at the structure of the file.  You can open it directly in Jupyter by clicking the _Home_ icon, then the _from_instructor_ folder, and then the _data_ folder.\n",
        "\n",
        "Within the file, you'll see that it is a dictionary with many items in it.  One of those items is called `entry` and that item is a list of things.  You can tell that because the item name is immediately followed by an opening square bracket, signifying the start of a list.  It's line 11 of the file: `  \"entry\": [`\n",
        "\n",
        "Write a function named `allergy_count(json_file)` that takes as one parameter the name of the JSON file and returns an integer number of entries in that file.  Your function should open the file, read the json into a Python object, and return how many items there are in the list of `entry`s."
      ]
    },
    {
      "cell_type": "code",
      "execution_count": 23,
      "metadata": {
        "id": "zNBlROiwbNRq"
      },
      "outputs": [],
      "source": [
        "import json\n",
        "ALLERGIES_FILE=\"allergies.json\""
      ]
    },
    {
      "cell_type": "code",
      "execution_count": 24,
      "metadata": {
        "nbgrader": {
          "grade": false,
          "grade_id": "q1-answer",
          "locked": false,
          "schema_version": 1,
          "solution": true
        },
        "id": "cymAgn2DbNRq"
      },
      "outputs": [],
      "source": [
        "def allergy_count(json_file):\n",
        "    \"\"\"\n",
        "    (str) -> int\n",
        "    This function counts the number of allergies recorded in a JSON file. The file is expected to\n",
        "    include the allergy data under a specific field called 'entry', which should be a list of allergies.\n",
        "\n",
        "    The function first attempts to open and read the JSON file from the provided path. It then looks for\n",
        "    the 'entry' field in the data, counting the number of items in it. If the file cannot be found, or\n",
        "    if the 'entry' field is missing, the function will return a count of 0 and print a message indicating\n",
        "    what went wrong. Additionally, if any unexpected error occurs while processing the file, it will\n",
        "    also return 0 and print the error details.\n",
        "\n",
        "    json_file: The path to a JSON file containing allergy data.\n",
        "\n",
        "    Returns the number of allergies as an integer, or 0 if the file or 'entry' field is not present or\n",
        "    if an error occurs.\n",
        "\n",
        "    Example:\n",
        "    >>> allergy_count(\"allergies.json\")\n",
        "        4\n",
        "    \"\"\"\n",
        "\n",
        "    try:\n",
        "        with open(json_file, 'r') as file:\n",
        "            data = json.load(file)\n",
        "            return len(data.get('entry', []))\n",
        "\n",
        "    except (FileNotFoundError, KeyError):\n",
        "        print(f\"File '{json_file}' or 'entry' field is not found.\")\n",
        "        return 0\n",
        "\n",
        "    except Exception as e:\n",
        "        print(f\"An error occurred: {str(e)}\")\n",
        "        return 0\n"
      ]
    },
    {
      "cell_type": "code",
      "execution_count": 25,
      "metadata": {
        "id": "t5Z8IIJAbNRq",
        "outputId": "b1a48db0-c270-4c8d-a0ba-7ab4ca05ff0d",
        "colab": {
          "base_uri": "https://localhost:8080/"
        }
      },
      "outputs": [
        {
          "output_type": "execute_result",
          "data": {
            "text/plain": [
              "4"
            ]
          },
          "metadata": {},
          "execution_count": 25
        }
      ],
      "source": [
        "allergy_count(ALLERGIES_FILE)"
      ]
    },
    {
      "cell_type": "code",
      "execution_count": 26,
      "metadata": {
        "nbgrader": {
          "grade": true,
          "grade_id": "q1-tests",
          "locked": true,
          "points": 5,
          "schema_version": 1,
          "solution": false
        },
        "id": "c5TzqkuvbNRr"
      },
      "outputs": [],
      "source": [
        "assert type(allergy_count(ALLERGIES_FILE)) == int\n",
        "assert allergy_count(ALLERGIES_FILE) == 4"
      ]
    },
    {
      "cell_type": "markdown",
      "metadata": {
        "id": "McaCHauYbNRr"
      },
      "source": [
        "### 30.2 Number of Patients\n",
        "\n",
        "If you dig a little bit deaper into this list of allergies, you'll see that each result has a patient associated with it.  Create a funcation called `patient_count(json_file)` that will count how many unique patients we have in this JSON structure.  "
      ]
    },
    {
      "cell_type": "code",
      "execution_count": 27,
      "metadata": {
        "id": "awG5sirDbNRr"
      },
      "outputs": [],
      "source": [
        "def patient_count(json_file):\n",
        "    \"\"\"\n",
        "    (str) -> int\n",
        "    This function calculates the number of distinct patients in a database of allergies. The allergy data is\n",
        "    expected to be stored in a JSON file, where each entry includes information about the patient linked to\n",
        "    the allergy.\n",
        "\n",
        "    The function opens the specified JSON file and processes its contents. It extracts patient information\n",
        "    from each allergy record under the 'entry' field and stores it in a set to ensure uniqueness. If a patient\n",
        "    entry is found, it converts the patient's data into a tuple (for immutability) and adds it to the set.\n",
        "    Finally, it returns the total number of unique patients.\n",
        "\n",
        "    If the JSON file is not found, the function raises a `FileNotFoundError`. If any other error occurs during\n",
        "    the processing of the file, it raises a generic `Exception`, logging the details of the issue.\n",
        "\n",
        "    Example:\n",
        "        >>> patient_count(\"allergies.json\")\n",
        "        2\n",
        "\n",
        "    \"\"\"\n",
        "\n",
        "    unique_patients = set()\n",
        "\n",
        "    with open(json_file, 'r') as file:\n",
        "        data = json.load(file)\n",
        "        for entry in data.get('entry', []):\n",
        "            resource = entry.get('resource', {})\n",
        "            patient = resource.get('patient', None)\n",
        "            if patient is not None:\n",
        "                # converting the patient dictionary to a tuple and add it to the set\n",
        "                unique_patients.add(tuple(patient.items()))\n",
        "\n",
        "    return len(unique_patients)\n"
      ]
    },
    {
      "cell_type": "code",
      "execution_count": 28,
      "metadata": {
        "id": "a3B7hh52bNRr",
        "outputId": "11278c54-c2f5-414e-ea29-004797148eed",
        "colab": {
          "base_uri": "https://localhost:8080/"
        }
      },
      "outputs": [
        {
          "output_type": "execute_result",
          "data": {
            "text/plain": [
              "2"
            ]
          },
          "metadata": {},
          "execution_count": 28
        }
      ],
      "source": [
        "patient_count(ALLERGIES_FILE)"
      ]
    },
    {
      "cell_type": "code",
      "execution_count": 29,
      "metadata": {
        "id": "mcFmne_obNRr"
      },
      "outputs": [],
      "source": [
        "assert type(patient_count(ALLERGIES_FILE)) == int\n",
        "assert patient_count(ALLERGIES_FILE) == 2"
      ]
    },
    {
      "cell_type": "markdown",
      "metadata": {
        "id": "RXlImPqhbNRr"
      },
      "source": [
        "### 30.3 How Many Allergies per Patient\n",
        "\n",
        "Although each entry is a separate allergy, several of them are for the same patient.  Write a function called `allergy_per_patient(json_file)` that counts up how many allergies each patient has.\n"
      ]
    },
    {
      "cell_type": "code",
      "execution_count": 30,
      "metadata": {
        "id": "xCpNjkOYbNRs"
      },
      "outputs": [],
      "source": [
        "def allergy_per_patient(json_file):\n",
        "    \"\"\"\n",
        "     (str) -> dict\n",
        "    This function reads a JSON file containing allergy data and returns a count of allergies for each patient.\n",
        "    The file should include patient names in the 'entry' field. For each entry, the patient's name is extracted,\n",
        "    and their allergies are counted.\n",
        "\n",
        "    The function returns a dictionary where the keys are patient names, and the values are the number of allergies\n",
        "    associated with each patient.\n",
        "\n",
        "    If the file is not found, a `FileNotFoundError` is raised. Any other errors during file processing are caught\n",
        "    and an empty dictionary is returned.\n",
        "\n",
        "    Example:\n",
        "        >>> allergy_per_patient(ALLERGIES_FILE) == {'Paul Boal': 1, 'Jason Argonaut': 3}\n",
        "    \"\"\"\n",
        "    allergies_by_patient = {}\n",
        "\n",
        "    try:\n",
        "        with open(json_file, 'r') as file:\n",
        "            data = json.load(file)\n",
        "            for entry in data.get('entry', []):\n",
        "                resource = entry.get('resource', {})\n",
        "                patient = resource.get('patient', None)\n",
        "\n",
        "                if patient is not None:\n",
        "                    patient_name = patient.get('display', None)\n",
        "                    if patient_name:\n",
        "                        if patient_name in allergies_by_patient:\n",
        "                            allergies_by_patient[patient_name] += 1\n",
        "                        else:\n",
        "                            allergies_by_patient[patient_name] = 1\n",
        "\n",
        "    except FileNotFoundError:\n",
        "        print(f\"File '{json_file}' is not found.\")\n",
        "        return {}\n",
        "\n",
        "    except Exception as e:\n",
        "        print(f\"An error occurred: {str(e)}\")\n",
        "        return {}\n",
        "\n",
        "    return allergies_by_patient"
      ]
    },
    {
      "cell_type": "code",
      "execution_count": 31,
      "metadata": {
        "id": "tTmu2263bNRs",
        "outputId": "c0d76286-33b5-4724-d79f-f89862e81947",
        "colab": {
          "base_uri": "https://localhost:8080/"
        }
      },
      "outputs": [
        {
          "output_type": "execute_result",
          "data": {
            "text/plain": [
              "{'Jason Argonaut': 3, 'Paul Boal': 1}"
            ]
          },
          "metadata": {},
          "execution_count": 31
        }
      ],
      "source": [
        "allergy_per_patient(ALLERGIES_FILE)"
      ]
    },
    {
      "cell_type": "code",
      "execution_count": 32,
      "metadata": {
        "id": "sXEsWMzsbNRs"
      },
      "outputs": [],
      "source": [
        "assert type(allergy_per_patient(ALLERGIES_FILE)) == dict\n",
        "assert allergy_per_patient(ALLERGIES_FILE) == {'Paul Boal': 1, 'Jason Argonaut': 3}"
      ]
    },
    {
      "cell_type": "markdown",
      "metadata": {
        "nbgrader": {
          "grade": false,
          "grade_id": "q2-question",
          "locked": true,
          "schema_version": 1,
          "solution": false
        },
        "id": "mnRLR4LrbNRs"
      },
      "source": [
        "### 30.4 Patient Allergies and Reaction\n",
        "\n",
        "You'll see in the file that each of the items in the `entry` list have several other attributes including a patient name, substance text representation, and a reaction manifestation.  Create a function named `allergy_list(json_file)` that will create an output list that has patient name, allergy, and reaction for each `entry`.  The actual result you should get will be:\n",
        "\n",
        "```python\n",
        "[['Jason Argonaut', 'PENICILLIN G', 'Hives'],\n",
        " ['Paul Boal', 'PENICILLIN G', 'Bruising'],\n",
        " ['Jason Argonaut', 'SHELLFISH-DERIVED PRODUCTS', 'Itching'],\n",
        " ['Jason Argonaut', 'STRAWBERRY', 'Anaphylaxis']]\n",
        "```\n",
        "\n",
        "You'll notice that the reaction and the manifestation of that action are lists.  You only need to capture the first reaction and the first manifestation of the action.  That is, if there is a list of things, just output the first one."
      ]
    },
    {
      "cell_type": "code",
      "execution_count": 33,
      "metadata": {
        "nbgrader": {
          "grade": false,
          "grade_id": "q2-answer",
          "locked": false,
          "schema_version": 1,
          "solution": true
        },
        "id": "L6L2m60EbNRs"
      },
      "outputs": [],
      "source": [
        "def allergy_list(json_file):\n",
        "    \"\"\"\n",
        "    (str) -> list\n",
        "    This function reads a JSON file containing allergy information for multiple patients and returns a list of\n",
        "    formatted entries. Each entry in the list contains the patient's name, the substance causing the allergy,\n",
        "    and the description of the reaction.\n",
        "\n",
        "    The function processes the data by extracting the patient's name from the 'patient' field, the substance\n",
        "    causing the allergy from the 'substance' field, and the first recorded reaction from the 'reaction' field.\n",
        "    It ensures that each entry is well-formed, with all three elements present, before including it in the result.\n",
        "\n",
        "    The resulting list of allergy entries is sorted by patient name for easy readability.\n",
        "\n",
        "    If the JSON file is missing, a `FileNotFoundError` is raised, and an empty list is returned. In case of\n",
        "    any other errors during processing, an error message is printed, and an empty list is returned.\n",
        "\n",
        "    Example:\n",
        "        >>> allergy_list(ALLERGIES_FILE) == [\n",
        "        ['Jason Argonaut', 'PENICILLIN G', 'Hives'],\n",
        "        ['Jason Argonaut', 'SHELLFISH-DERIVED PRODUCTS', 'Itching'],\n",
        "        ['Jason Argonaut', 'STRAWBERRY', 'Anaphylaxis'],\n",
        "        ['Paul Boal', 'PENICILLIN G', 'Bruising']\n",
        "        ]\n",
        "    \"\"\"\n",
        "\n",
        "    try:\n",
        "        with open(json_file, 'r') as file:\n",
        "            data = json.load(file)\n",
        "            result = [\n",
        "                [\n",
        "                    entry.get('resource', {}).get('patient', {}).get('display', None),\n",
        "                    entry.get('resource', {}).get('substance', {}).get('text', None),\n",
        "                    entry.get('resource', {}).get('reaction', [{}])[0].get('manifestation', [{}])[0].get('text', None)\n",
        "                ]\n",
        "                for entry in data.get('entry', [])\n",
        "                if entry.get('resource', {}).get('patient', {}).get('display', None) and\n",
        "                   entry.get('resource', {}).get('substance', {}).get('text', None) and\n",
        "                   entry.get('resource', {}).get('reaction', [])\n",
        "            ]\n",
        "\n",
        "        # Sort the result by patient name\n",
        "        result.sort(key=lambda x: x[0])\n",
        "        return result\n",
        "\n",
        "    except FileNotFoundError:\n",
        "        print(f\"File '{json_file}' is not found.\")\n",
        "        return []\n",
        "\n",
        "    except Exception as e:\n",
        "        print(f\"An error occurred: {str(e)}\")\n",
        "        return []\n"
      ]
    },
    {
      "cell_type": "code",
      "execution_count": 34,
      "metadata": {
        "id": "XYyYZqsQbNRs",
        "outputId": "e08dfb31-3483-4881-b348-4bb3db843b5e",
        "colab": {
          "base_uri": "https://localhost:8080/"
        }
      },
      "outputs": [
        {
          "output_type": "execute_result",
          "data": {
            "text/plain": [
              "[['Jason Argonaut', 'PENICILLIN G', 'Hives'],\n",
              " ['Jason Argonaut', 'SHELLFISH-DERIVED PRODUCTS', 'Itching'],\n",
              " ['Jason Argonaut', 'STRAWBERRY', 'Anaphylaxis'],\n",
              " ['Paul Boal', 'PENICILLIN G', 'Bruising']]"
            ]
          },
          "metadata": {},
          "execution_count": 34
        }
      ],
      "source": [
        "allergy_list(ALLERGIES_FILE)"
      ]
    },
    {
      "cell_type": "code",
      "execution_count": 35,
      "metadata": {
        "nbgrader": {
          "grade": true,
          "grade_id": "q2-tests",
          "locked": true,
          "points": 10,
          "schema_version": 1,
          "solution": false
        },
        "id": "m3jjh_CzbNRs"
      },
      "outputs": [],
      "source": [
        "assert allergy_list(ALLERGIES_FILE) == [['Jason Argonaut', 'PENICILLIN G', 'Hives'],\n",
        " ['Jason Argonaut', 'SHELLFISH-DERIVED PRODUCTS', 'Itching'],\n",
        " ['Jason Argonaut', 'STRAWBERRY', 'Anaphylaxis'],\n",
        " ['Paul Boal', 'PENICILLIN G', 'Bruising']]\n"
      ]
    },
    {
      "cell_type": "markdown",
      "metadata": {
        "nbgrader": {
          "grade": false,
          "grade_id": "q3-question",
          "locked": true,
          "schema_version": 1,
          "solution": false
        },
        "id": "Iocsoa4tbNRs"
      },
      "source": [
        "### 30.5 Allergy Reaction\n",
        "\n",
        "Write a function called `allergy_reaction(json_file,patient,substance)` that takes three parameter and returns the reaction that will happen if the patient takes the specified substance.  You can solve this, in part, by calling your `allergy_list` function inside your new `allergy_reaction` function.\n",
        "\n",
        "If the substance is not found in the allergy list, the function should return None."
      ]
    },
    {
      "cell_type": "code",
      "execution_count": 36,
      "metadata": {
        "nbgrader": {
          "grade": false,
          "grade_id": "q3-answer",
          "locked": false,
          "schema_version": 1,
          "solution": true
        },
        "id": "nrW-FkEcbNRs"
      },
      "outputs": [],
      "source": [
        "def allergy_reaction(json_file, patient, substance):\n",
        "    \"\"\"\n",
        "    (str, str, str) -> str or None\n",
        "    This function retrieves the allergic reaction for a given patient and substance from a JSON file containing allergy data.\n",
        "    It searches through the allergy entries and returns the reaction associated with the specified substance for the given patient.\n",
        "    If no match is found, it returns `None`.\n",
        "\n",
        "    The function first calls `allergy_list` to get a list of all allergies. It then uses a generator to search for\n",
        "    a matching entry based on the patient’s name and the substance, and returns the corresponding reaction.\n",
        "\n",
        "    If the JSON file is not found, a `FileNotFoundError` is raised. Other errors are caught, and `None` is returned.\n",
        "\n",
        "    Examples:\n",
        "        >>> allergy_reaction(\"allergies.json\", 'Jason Argonaut', 'PENICILLIN G')\n",
        "        'Hives'\n",
        "        >>> allergy_reaction(\"allergies.json\", 'Jason Argonaut', 'SHELLFISH-DERIVED PRODUCTS')\n",
        "        'Itching'\n",
        "        >>> allergy_reaction(\"allergies.json\", 'Jason Argonaut', 'STRAWBERRY')\n",
        "        'Anaphylaxis'\n",
        "        >>> allergy_reaction(\"allergies.json\", 'Jason Argonaut', 'PENICILLIN')\n",
        "        None\n",
        "        >>> allergy_reaction(\"allergies.json\", 'Paul Boal', 'PENICILLIN G')\n",
        "        'Bruising'\n",
        "    \"\"\"\n",
        "    try:\n",
        "        allergies_and_reactions = allergy_list(json_file)\n",
        "\n",
        "        # Using next with a generator expression to find the first matching entry\n",
        "        reaction = next((entry[2] for entry in allergies_and_reactions\n",
        "                         if entry[0] == patient and entry[1] == substance), None)\n",
        "\n",
        "        return reaction\n",
        "\n",
        "    except FileNotFoundError:\n",
        "        print(f\"File '{json_file}' is not found.\")\n",
        "        return None\n",
        "\n",
        "    except Exception as e:\n",
        "        print(f\"An error occurred: {str(e)}\")\n",
        "        return None\n"
      ]
    },
    {
      "cell_type": "code",
      "execution_count": 37,
      "metadata": {
        "id": "Jic9OATsbNRs",
        "outputId": "d2e9a969-a45d-4d44-d299-e9fa21a59edb",
        "colab": {
          "base_uri": "https://localhost:8080/",
          "height": 36
        }
      },
      "outputs": [
        {
          "output_type": "execute_result",
          "data": {
            "text/plain": [
              "'Hives'"
            ],
            "application/vnd.google.colaboratory.intrinsic+json": {
              "type": "string"
            }
          },
          "metadata": {},
          "execution_count": 37
        }
      ],
      "source": [
        "allergy_reaction(ALLERGIES_FILE, 'Jason Argonaut', 'PENICILLIN G')"
      ]
    },
    {
      "cell_type": "code",
      "execution_count": 38,
      "metadata": {
        "nbgrader": {
          "grade": true,
          "grade_id": "q3-tests",
          "locked": true,
          "points": 5,
          "schema_version": 1,
          "solution": false
        },
        "id": "3HElkOgGbNRt"
      },
      "outputs": [],
      "source": [
        "assert allergy_reaction(ALLERGIES_FILE, 'Jason Argonaut', 'PENICILLIN G') == 'Hives'\n",
        "assert allergy_reaction(ALLERGIES_FILE, 'Jason Argonaut', 'SHELLFISH-DERIVED PRODUCTS') == 'Itching'\n",
        "assert allergy_reaction(ALLERGIES_FILE, 'Jason Argonaut', 'STRAWBERRY') == 'Anaphylaxis'\n",
        "assert allergy_reaction(ALLERGIES_FILE, 'Jason Argonaut', 'PENICILLIN') == None\n",
        "assert allergy_reaction(ALLERGIES_FILE, 'Paul Boal', 'PENICILLIN G') == 'Bruising'"
      ]
    },
    {
      "cell_type": "markdown",
      "metadata": {
        "id": "05iYUnQLbNRt"
      },
      "source": [
        "---\n",
        "\n",
        "## Check your work above\n",
        "\n",
        "If you didn't get them all correct, take a few minutes to think through those that aren't correct.\n",
        "\n",
        "\n",
        "## Submitting Your Work\n",
        "\n",
        "In order to submit your work, you'll need to save this notebook file back to GitHub.  To do that in Google Colab:\n",
        "1. File -> Save a Copy in GitHub\n",
        "2. Make sure your HDS5210 repository is selected\n",
        "3. Make sure the file name includes the week number like this: `week06/week06_assignment_2.ipynb`\n",
        "4. Add a commit message that means something\n",
        "\n",
        "**Be sure week names are lowercase and use a two digit week number!!**\n",
        "\n",
        "**Be sure you use the same file name provided by the instructor!!**\n",
        "\n"
      ]
    }
  ],
  "metadata": {
    "celltoolbar": "Create Assignment",
    "kernelspec": {
      "display_name": "Python 3",
      "language": "python",
      "name": "python3"
    },
    "language_info": {
      "codemirror_mode": {
        "name": "ipython",
        "version": 3
      },
      "file_extension": ".py",
      "mimetype": "text/x-python",
      "name": "python",
      "nbconvert_exporter": "python",
      "pygments_lexer": "ipython3",
      "version": "3.9.6"
    },
    "colab": {
      "provenance": []
    }
  },
  "nbformat": 4,
  "nbformat_minor": 0
}