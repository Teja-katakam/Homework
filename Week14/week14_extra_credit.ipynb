{
  "cells": [
    {
      "cell_type": "markdown",
      "metadata": {
        "id": "IBZvLRl-XbH2"
      },
      "source": [
        "# Week 14 Extra Credit - How will ChatGPT do on your final project idea?\n",
        "\n",
        "This extra credit assignment is entirely optional.  You do not need to do it.\n",
        "\n",
        "If you would like the opportunity to earn up to 5 extra credit points, complete this assignment and submit it via GitHub as normal before Monday, November 27 at 11:59 PM CST.  No late submissions will be accepted.  The file must be saved to your week13 folder in GitHub."
      ]
    },
    {
      "cell_type": "markdown",
      "metadata": {
        "id": "9VcgkJ5DXbH3"
      },
      "source": [
        "## Part 1: Have a conversation with ChatGPT\n",
        "\n",
        "I want you to have a conversation with ChatGPT about your final project idea.  Find out what it thinks about your idea and if it has any data sources (URLs for specific sites) that could be helpful.  Below, either include copy/paste the chat history from your conversation or include a link to the shared chat.  (ChatGPT has an [option to share a link to a specific conversation](https://help.openai.com/en/articles/7925741-chatgpt-shared-links-faq).  It's the up-arrow icon in the upper-right corner of your chat window.)\n",
        "\n",
        "Take this conversationw with ChatGPT as far as you want, but at least ask three or four follow-up questions to refine the information you're getting back.\n",
        "\n",
        "If it starts giving you links to information, don't assume they're going to work. Remember that ChatGPT isn't perfect. So, follow the links and make sure there's information there that matches what ChatGPT says you will find."
      ]
    },
    {
      "cell_type": "markdown",
      "metadata": {
        "id": "qfbbaLF8XbH4"
      },
      "source": [
        "**RESPONSE**\n",
        "\n",
        "*Enter your conversation or link to your chat here*\n",
        "I want to use this dataset for the final project using Heart_Disease_Mortality_Data_Among_US_Adults_35_by_State_Territory_and_County_2019-2021. The dataset contains information about heart disease mortality across various U.S. states, counties, and territories. I want to analyze the trends and find correlations between heart disease mortality rates and factors like location, population, or healthcare accessibility. Do you think this is a good idea? What challenges do you think I might face?\n",
        "\n",
        "Your project idea sounds like it has a lot of potential! Analyzing trends in heart disease mortality across different regions could provide valuable insights into healthcare disparities, regional health differences, and policy impacts.\n",
        "\n",
        "Some potential challenges you might face:\n",
        "\n",
        "Data Quality: The dataset might have missing or inconsistent values, especially across smaller counties or territories.\n",
        "Complexity in Data Correlation: There could be many factors influencing mortality rates (e.g., healthcare access, lifestyle choices, socioeconomic factors), so identifying and isolating the key factors could be tricky.\n",
        "Geospatial Analysis: Since you are analyzing data by state and county, you might need geographic data or mapping software to visualize trends.\n",
        "You could also consider exploring machine learning or statistical models to predict future mortality trends or identify high-risk regions. Would you like help finding more datasets or ideas on how to analyze it?\n",
        "\n",
        "User:\n",
        "Yes, please. I would like to know what kind of additional data sources or external datasets might be useful for my analysis. Can you recommend any useful websites or data that might help me strengthen the project?\n",
        "\n",
        "ChatGPT:\n",
        "Here are a few suggestions for additional data sources that could complement your analysis:\n",
        "\n",
        "CDC - National Center for Health Statistics (NCHS): The CDC provides health-related datasets, including those on chronic diseases like heart disease. You could use their data to analyze risk factors like obesity, smoking, and physical activity.\n",
        "\n",
        "Website: https://www.cdc.gov/nchs/\n",
        "U.S. Census Bureau - American Community Survey (ACS): This dataset includes information on socioeconomic factors such as income, education, and healthcare access, which could be useful to correlate with heart disease mortality.\n",
        "\n",
        "Website: https://www.census.gov/programs-surveys/acs/\n",
        "HealthData.gov: This site offers public health datasets from various agencies, including the Department of Health and Human Services. You might find additional heart disease-related data here or data on healthcare infrastructure.\n",
        "\n",
        "Website: https://www.healthdata.gov/\n",
        "County Health Rankings & Roadmaps: This site provides data on factors like healthcare access, environmental influences, and other community health indicators that can affect heart disease rates.\n",
        "\n",
        "Website: https://www.countyhealthrankings.org/\n",
        "Would you like to explore any of these datasets further, or perhaps dive into a specific area like geographic analysis or statistical modeling?\n"
      ]
    },
    {
      "cell_type": "markdown",
      "metadata": {
        "id": "noHCLFj1XbH4"
      },
      "source": [
        "### Part 2: Your reflection\n",
        "\n",
        "Below, tell me what you think ChatGPT did well or not well in your conversation.  Was it good at finding data that you needed?  Was it good at finding actual links that worked?  Did its responses make sense to you?  What did it do well / not well?\n",
        "\n",
        "Your response below should be several sentences.  If you don't have enough feedback, expand your conversation with ChatGPT.  Ask it refine your project idea or start writing code for you.  See what it can do."
      ]
    },
    {
      "cell_type": "markdown",
      "metadata": {
        "id": "o8yHo4fmXbH4"
      },
      "source": [
        "**RESPONSE**\n",
        "\n",
        "*Enter your reflections on the ChatGPT conversation here*\n",
        "\n",
        "In this conversation, ChatGPT did a good job of providing valuable feedback and suggesting relevant data sources that could complement my project. The recommendations for additional datasets like those from the CDC, U.S. Census Bureau, and County Health Rankings are highly relevant to my analysis of heart disease mortality. The links to the data sources were appropriate, though I would need to verify if they work and if the data is directly applicable to my project.\n",
        "\n",
        "ChatGPT also gave a clear step-by-step breakdown of how to approach the analysis, from cleaning the data to performing geographic analysis and statistical modeling. The advice on using `geopandas` for geographic mapping was especially helpful, and the code snippets provided were straightforward.\n",
        "\n",
        "Where ChatGPT could improve is in ensuring that links work and are fully detailed. It could also ask more clarifying questions to understand the project more deeply, especially to refine the approach further based on the goals and scope.\n",
        "\n",
        "To continue refining my project, I might ask ChatGPT to help with specific code writing for geographic analysis, or for more advanced suggestions on statistical modeling or machine learning techniques that could be useful. I'd also like to ask for help in handling missing data or performing more advanced correlation analysis."
      ]
    },
    {
      "cell_type": "markdown",
      "metadata": {
        "id": "ySjpiHBLXbH5"
      },
      "source": [
        "### Submitting\n",
        "\n",
        "Submit this as normal to GitHub with the name `week14/week14_extra_credit.ipynb`"
      ]
    },
    {
      "cell_type": "markdown",
      "metadata": {
        "id": "HzoHbGXbXbH5"
      },
      "source": []
    }
  ],
  "metadata": {
    "language_info": {
      "name": "python"
    },
    "colab": {
      "provenance": []
    }
  },
  "nbformat": 4,
  "nbformat_minor": 0
}