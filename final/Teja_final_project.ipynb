{
  "nbformat": 4,
  "nbformat_minor": 0,
  "metadata": {
    "colab": {
      "provenance": [],
      "include_colab_link": true
    },
    "kernelspec": {
      "name": "python3",
      "display_name": "Python 3"
    },
    "language_info": {
      "name": "python"
    }
  },
  "cells": [
    {
      "cell_type": "markdown",
      "metadata": {
        "id": "view-in-github",
        "colab_type": "text"
      },
      "source": [
        "<a href=\"https://colab.research.google.com/github/Teja-katakam/Homework/blob/main/final/Teja_final_project.ipynb\" target=\"_parent\"><img src=\"https://colab.research.google.com/assets/colab-badge.svg\" alt=\"Open In Colab\"/></a>"
      ]
    },
    {
      "cell_type": "markdown",
      "source": [
        "# **Healthcare Analytics Project**\n",
        "\n",
        "\n",
        "## **Project Description**\n",
        "\n",
        "This project focuses on analyzing healthcare-associated infection (HAI) data, population trends, and healthcare spending across counties.\n",
        "The analysis integrates multiple datasets to provide insights into hospital performance, resource allocation, and infection risk management.\n",
        "The project adheres to modularity principles, ensuring clarity and reusability for each step.\n",
        "\n",
        "---"
      ],
      "metadata": {
        "id": "T8zzOsCqXLj6"
      }
    },
    {
      "cell_type": "markdown",
      "source": [
        "## **Data Access and Formats**\n",
        "\n",
        "This section handles data upload, extraction, and integration of multiple sources.\n",
        "\n",
        "---"
      ],
      "metadata": {
        "id": "zEmkSgTtXLgb"
      }
    },
    {
      "cell_type": "markdown",
      "source": [
        "## **Data Merging**\n",
        "\n",
        "This section merges datasets to provide a comprehensive view for analysis.\n",
        "\n",
        "---"
      ],
      "metadata": {
        "id": "l5x_1WpcXLds"
      }
    },
    {
      "cell_type": "markdown",
      "source": [
        "## **Data Aggregation**\n",
        "\n",
        "This section summarizes data using aggregation techniques to reveal patterns and trends.\n",
        "\n",
        "---"
      ],
      "metadata": {
        "id": "m2NbB3q5XLaq"
      }
    },
    {
      "cell_type": "markdown",
      "source": [
        "## **Data Pivoting**\n",
        "\n",
        "This section restructures data using pivot tables for deeper insights.\n",
        "\n",
        "---"
      ],
      "metadata": {
        "id": "MEV0XCX1XLYH"
      }
    },
    {
      "cell_type": "markdown",
      "source": [
        "## **Data Transformation**\n",
        "\n",
        "This section enhances the dataset by creating new features and refining existing ones.\n",
        "\n",
        "---"
      ],
      "metadata": {
        "id": "-4DBZSICXLU5"
      }
    },
    {
      "cell_type": "markdown",
      "source": [
        "## **Data Visualization**\n",
        "\n",
        "This section visualizes the data using various charts to highlight key insights.\n",
        "\n",
        "---"
      ],
      "metadata": {
        "id": "s613X5p8XLSH"
      }
    },
    {
      "cell_type": "markdown",
      "source": [
        "## **Problem Applicability**\n",
        "\n",
        "This section outlines the theoretical and practical relevance of the project.\n",
        "\n",
        "---"
      ],
      "metadata": {
        "id": "PqkCBAtuXLPX"
      }
    },
    {
      "cell_type": "markdown",
      "source": [
        "## DATA ACCESS AND FORMATS"
      ],
      "metadata": {
        "id": "qX0JadTLFaTA"
      }
    },
    {
      "cell_type": "code",
      "execution_count": null,
      "metadata": {
        "colab": {
          "base_uri": "https://localhost:8080/",
          "height": 91
        },
        "id": "uhSBMTbUDQPo",
        "outputId": "a98816a8-c507-48c9-843e-f8d630ff5302"
      },
      "outputs": [
        {
          "output_type": "display_data",
          "data": {
            "text/plain": [
              "<IPython.core.display.HTML object>"
            ],
            "text/html": [
              "\n",
              "     <input type=\"file\" id=\"files-ba75f2b5-7d16-4732-89ec-3943eae910d7\" name=\"files[]\" multiple disabled\n",
              "        style=\"border:none\" />\n",
              "     <output id=\"result-ba75f2b5-7d16-4732-89ec-3943eae910d7\">\n",
              "      Upload widget is only available when the cell has been executed in the\n",
              "      current browser session. Please rerun this cell to enable.\n",
              "      </output>\n",
              "      <script>// Copyright 2017 Google LLC\n",
              "//\n",
              "// Licensed under the Apache License, Version 2.0 (the \"License\");\n",
              "// you may not use this file except in compliance with the License.\n",
              "// You may obtain a copy of the License at\n",
              "//\n",
              "//      http://www.apache.org/licenses/LICENSE-2.0\n",
              "//\n",
              "// Unless required by applicable law or agreed to in writing, software\n",
              "// distributed under the License is distributed on an \"AS IS\" BASIS,\n",
              "// WITHOUT WARRANTIES OR CONDITIONS OF ANY KIND, either express or implied.\n",
              "// See the License for the specific language governing permissions and\n",
              "// limitations under the License.\n",
              "\n",
              "/**\n",
              " * @fileoverview Helpers for google.colab Python module.\n",
              " */\n",
              "(function(scope) {\n",
              "function span(text, styleAttributes = {}) {\n",
              "  const element = document.createElement('span');\n",
              "  element.textContent = text;\n",
              "  for (const key of Object.keys(styleAttributes)) {\n",
              "    element.style[key] = styleAttributes[key];\n",
              "  }\n",
              "  return element;\n",
              "}\n",
              "\n",
              "// Max number of bytes which will be uploaded at a time.\n",
              "const MAX_PAYLOAD_SIZE = 100 * 1024;\n",
              "\n",
              "function _uploadFiles(inputId, outputId) {\n",
              "  const steps = uploadFilesStep(inputId, outputId);\n",
              "  const outputElement = document.getElementById(outputId);\n",
              "  // Cache steps on the outputElement to make it available for the next call\n",
              "  // to uploadFilesContinue from Python.\n",
              "  outputElement.steps = steps;\n",
              "\n",
              "  return _uploadFilesContinue(outputId);\n",
              "}\n",
              "\n",
              "// This is roughly an async generator (not supported in the browser yet),\n",
              "// where there are multiple asynchronous steps and the Python side is going\n",
              "// to poll for completion of each step.\n",
              "// This uses a Promise to block the python side on completion of each step,\n",
              "// then passes the result of the previous step as the input to the next step.\n",
              "function _uploadFilesContinue(outputId) {\n",
              "  const outputElement = document.getElementById(outputId);\n",
              "  const steps = outputElement.steps;\n",
              "\n",
              "  const next = steps.next(outputElement.lastPromiseValue);\n",
              "  return Promise.resolve(next.value.promise).then((value) => {\n",
              "    // Cache the last promise value to make it available to the next\n",
              "    // step of the generator.\n",
              "    outputElement.lastPromiseValue = value;\n",
              "    return next.value.response;\n",
              "  });\n",
              "}\n",
              "\n",
              "/**\n",
              " * Generator function which is called between each async step of the upload\n",
              " * process.\n",
              " * @param {string} inputId Element ID of the input file picker element.\n",
              " * @param {string} outputId Element ID of the output display.\n",
              " * @return {!Iterable<!Object>} Iterable of next steps.\n",
              " */\n",
              "function* uploadFilesStep(inputId, outputId) {\n",
              "  const inputElement = document.getElementById(inputId);\n",
              "  inputElement.disabled = false;\n",
              "\n",
              "  const outputElement = document.getElementById(outputId);\n",
              "  outputElement.innerHTML = '';\n",
              "\n",
              "  const pickedPromise = new Promise((resolve) => {\n",
              "    inputElement.addEventListener('change', (e) => {\n",
              "      resolve(e.target.files);\n",
              "    });\n",
              "  });\n",
              "\n",
              "  const cancel = document.createElement('button');\n",
              "  inputElement.parentElement.appendChild(cancel);\n",
              "  cancel.textContent = 'Cancel upload';\n",
              "  const cancelPromise = new Promise((resolve) => {\n",
              "    cancel.onclick = () => {\n",
              "      resolve(null);\n",
              "    };\n",
              "  });\n",
              "\n",
              "  // Wait for the user to pick the files.\n",
              "  const files = yield {\n",
              "    promise: Promise.race([pickedPromise, cancelPromise]),\n",
              "    response: {\n",
              "      action: 'starting',\n",
              "    }\n",
              "  };\n",
              "\n",
              "  cancel.remove();\n",
              "\n",
              "  // Disable the input element since further picks are not allowed.\n",
              "  inputElement.disabled = true;\n",
              "\n",
              "  if (!files) {\n",
              "    return {\n",
              "      response: {\n",
              "        action: 'complete',\n",
              "      }\n",
              "    };\n",
              "  }\n",
              "\n",
              "  for (const file of files) {\n",
              "    const li = document.createElement('li');\n",
              "    li.append(span(file.name, {fontWeight: 'bold'}));\n",
              "    li.append(span(\n",
              "        `(${file.type || 'n/a'}) - ${file.size} bytes, ` +\n",
              "        `last modified: ${\n",
              "            file.lastModifiedDate ? file.lastModifiedDate.toLocaleDateString() :\n",
              "                                    'n/a'} - `));\n",
              "    const percent = span('0% done');\n",
              "    li.appendChild(percent);\n",
              "\n",
              "    outputElement.appendChild(li);\n",
              "\n",
              "    const fileDataPromise = new Promise((resolve) => {\n",
              "      const reader = new FileReader();\n",
              "      reader.onload = (e) => {\n",
              "        resolve(e.target.result);\n",
              "      };\n",
              "      reader.readAsArrayBuffer(file);\n",
              "    });\n",
              "    // Wait for the data to be ready.\n",
              "    let fileData = yield {\n",
              "      promise: fileDataPromise,\n",
              "      response: {\n",
              "        action: 'continue',\n",
              "      }\n",
              "    };\n",
              "\n",
              "    // Use a chunked sending to avoid message size limits. See b/62115660.\n",
              "    let position = 0;\n",
              "    do {\n",
              "      const length = Math.min(fileData.byteLength - position, MAX_PAYLOAD_SIZE);\n",
              "      const chunk = new Uint8Array(fileData, position, length);\n",
              "      position += length;\n",
              "\n",
              "      const base64 = btoa(String.fromCharCode.apply(null, chunk));\n",
              "      yield {\n",
              "        response: {\n",
              "          action: 'append',\n",
              "          file: file.name,\n",
              "          data: base64,\n",
              "        },\n",
              "      };\n",
              "\n",
              "      let percentDone = fileData.byteLength === 0 ?\n",
              "          100 :\n",
              "          Math.round((position / fileData.byteLength) * 100);\n",
              "      percent.textContent = `${percentDone}% done`;\n",
              "\n",
              "    } while (position < fileData.byteLength);\n",
              "  }\n",
              "\n",
              "  // All done.\n",
              "  yield {\n",
              "    response: {\n",
              "      action: 'complete',\n",
              "    }\n",
              "  };\n",
              "}\n",
              "\n",
              "scope.google = scope.google || {};\n",
              "scope.google.colab = scope.google.colab || {};\n",
              "scope.google.colab._files = {\n",
              "  _uploadFiles,\n",
              "  _uploadFilesContinue,\n",
              "};\n",
              "})(self);\n",
              "</script> "
            ]
          },
          "metadata": {}
        },
        {
          "output_type": "stream",
          "name": "stdout",
          "text": [
            "Saving teja_dataset.zip to teja_dataset.zip\n",
            "Extracted files: ['Healthcare_Associated_Infections_-_Hospital.csv']\n"
          ]
        }
      ],
      "source": [
        "from google.colab import files\n",
        "import zipfile\n",
        "import os\n",
        "\n",
        "# Step 1: Upload the zip file\n",
        "uploaded = files.upload()\n",
        "\n",
        "# Step 2: Extract the contents of the zip file\n",
        "for filename in uploaded.keys():\n",
        "    if filename.endswith('.zip'):\n",
        "        with zipfile.ZipFile(filename, 'r') as zip_ref:\n",
        "            zip_ref.extractall(\"./extracted\")\n",
        "        print(f\"Extracted files: {os.listdir('./extracted')}\")"
      ]
    },
    {
      "cell_type": "markdown",
      "source": [
        "#### Inspect the Data"
      ],
      "metadata": {
        "id": "emyQHjBFFvmb"
      }
    },
    {
      "cell_type": "code",
      "source": [
        "import pandas as pd\n",
        "\n",
        "# Load the primary dataset\n",
        "dataset_path = \"./extracted/Healthcare_Associated_Infections_-_Hospital.csv\"\n",
        "primary_df = pd.read_csv(dataset_path)\n",
        "\n",
        "# Display the first few rows and column names\n",
        "print(\"Primary Dataset Preview:\")\n",
        "print(primary_df.head())\n",
        "\n",
        "print(\"\\nColumn Names:\")\n",
        "print(primary_df.columns)"
      ],
      "metadata": {
        "colab": {
          "base_uri": "https://localhost:8080/"
        },
        "id": "8ROxyBc9EHnj",
        "outputId": "4e56cae7-9710-436a-9cc8-2ac64d981369"
      },
      "execution_count": null,
      "outputs": [
        {
          "output_type": "stream",
          "name": "stdout",
          "text": [
            "Primary Dataset Preview:\n",
            "   Provider ID                  Hospital Name                     Address  \\\n",
            "0        10005  MARSHALL MEDICAL CENTER SOUTH  2505 U S HIGHWAY 431 NORTH   \n",
            "1        10005  MARSHALL MEDICAL CENTER SOUTH  2505 U S HIGHWAY 431 NORTH   \n",
            "2        10005  MARSHALL MEDICAL CENTER SOUTH  2505 U S HIGHWAY 431 NORTH   \n",
            "3        10005  MARSHALL MEDICAL CENTER SOUTH  2505 U S HIGHWAY 431 NORTH   \n",
            "4        10005  MARSHALL MEDICAL CENTER SOUTH  2505 U S HIGHWAY 431 NORTH   \n",
            "\n",
            "   City State  ZIP Code County Name  Phone Number  \\\n",
            "0  BOAZ    AL     35957    MARSHALL    2565938310   \n",
            "1  BOAZ    AL     35957    MARSHALL    2565938310   \n",
            "2  BOAZ    AL     35957    MARSHALL    2565938310   \n",
            "3  BOAZ    AL     35957    MARSHALL    2565938310   \n",
            "4  BOAZ    AL     35957    MARSHALL    2565938310   \n",
            "\n",
            "                     Measure Name       Measure ID  \\\n",
            "0  CLABSI: Lower Confidence Limit   HAI_1_CI_LOWER   \n",
            "1  CLABSI: Upper Confidence Limit   HAI_1_CI_UPPER   \n",
            "2    CLABSI: Number of Procedures  HAI_1_DOPC_DAYS   \n",
            "3         CLABSI: Predicted Cases  HAI_1_ELIGCASES   \n",
            "4          CLABSI: Observed Cases  HAI_1_NUMERATOR   \n",
            "\n",
            "                   Compared to National  Score Footnote Measure Start Date  \\\n",
            "0  No Different than National Benchmark  0.165      NaN         01/01/2015   \n",
            "1  No Different than National Benchmark  3.249      NaN         01/01/2015   \n",
            "2  No Different than National Benchmark   1485      NaN         01/01/2015   \n",
            "3  No Different than National Benchmark  2.034      NaN         01/01/2015   \n",
            "4  No Different than National Benchmark      2      NaN         01/01/2015   \n",
            "\n",
            "  Measure End Date                                      Location  \n",
            "0       06/30/2015  2505 U S HIGHWAY 431 NORTH\\nBOAZ, AL 35957\\n  \n",
            "1       06/30/2015  2505 U S HIGHWAY 431 NORTH\\nBOAZ, AL 35957\\n  \n",
            "2       06/30/2015  2505 U S HIGHWAY 431 NORTH\\nBOAZ, AL 35957\\n  \n",
            "3       06/30/2015  2505 U S HIGHWAY 431 NORTH\\nBOAZ, AL 35957\\n  \n",
            "4       06/30/2015  2505 U S HIGHWAY 431 NORTH\\nBOAZ, AL 35957\\n  \n",
            "\n",
            "Column Names:\n",
            "Index(['Provider ID', 'Hospital Name', 'Address', 'City', 'State', 'ZIP Code',\n",
            "       'County Name', 'Phone Number', 'Measure Name', 'Measure ID',\n",
            "       'Compared to National', 'Score', 'Footnote', 'Measure Start Date',\n",
            "       'Measure End Date', 'Location'],\n",
            "      dtype='object')\n"
          ]
        }
      ]
    },
    {
      "cell_type": "markdown",
      "source": [
        "#### Fetch Data from API"
      ],
      "metadata": {
        "id": "kFYr02IYGMYa"
      }
    },
    {
      "cell_type": "code",
      "source": [
        "import requests\n",
        "import pandas as pd\n",
        "\n",
        "# API URL (Example: Healthcare Spending Data by County)\n",
        "api_url = \"https://api.census.gov/data/2019/acs/acs5?get=NAME,B25077_001E&for=county:*\"\n",
        "\n",
        "# Fetch data from the API\n",
        "response = requests.get(api_url)\n",
        "if response.status_code == 200:\n",
        "    print(\"API data fetched successfully!\")\n",
        "    api_data = response.json()  # Parse JSON response\n",
        "else:\n",
        "    print(f\"Error fetching data: {response.status_code}\")\n",
        "    api_data = []\n",
        "\n",
        "# Convert API data to a DataFrame\n",
        "columns = api_data[0]  # Column names\n",
        "data = api_data[1:]    # Data rows\n",
        "api_df = pd.DataFrame(data, columns=columns)\n",
        "\n",
        "# Display the first few rows of the API dataset\n",
        "print(\"API Dataset Preview:\")\n",
        "print(api_df.head())"
      ],
      "metadata": {
        "colab": {
          "base_uri": "https://localhost:8080/"
        },
        "id": "lXoLl7vrFyEM",
        "outputId": "38724f61-c546-4f20-fb28-2aaad80e876d"
      },
      "execution_count": null,
      "outputs": [
        {
          "output_type": "stream",
          "name": "stdout",
          "text": [
            "API data fetched successfully!\n",
            "API Dataset Preview:\n",
            "                       NAME B25077_001E state county\n",
            "0  Fayette County, Illinois       88300    17    051\n",
            "1    Logan County, Illinois      103200    17    107\n",
            "2   Saline County, Illinois       73800    17    165\n",
            "3     Lake County, Illinois      265100    17    097\n",
            "4   Massac County, Illinois       83600    17    127\n"
          ]
        }
      ]
    },
    {
      "cell_type": "markdown",
      "source": [
        "## DATA MERGING\n",
        "\n",
        "We will be performaing two merge operations here."
      ],
      "metadata": {
        "id": "iMWKQSxzGtFZ"
      }
    },
    {
      "cell_type": "markdown",
      "source": [
        "1. Combine the primary dataset with the API data (county-level healthcare spending)."
      ],
      "metadata": {
        "id": "beyUU7jGHAF3"
      }
    },
    {
      "cell_type": "code",
      "source": [
        "# Step 1: Clean API Data\n",
        "api_df_cleaned = api_df[['NAME', 'B25077_001E']].copy()\n",
        "api_df_cleaned.columns = ['County Name', 'Median Healthcare Spending']\n",
        "\n",
        "# Ensure consistent formatting for merging\n",
        "api_df_cleaned['County Name'] = api_df_cleaned['County Name'].str.split(',').str[0].str.upper()  # Extract and standardize county name\n",
        "primary_df['County Name'] = primary_df['County Name'].str.upper()  # Standardize primary dataset's county names\n",
        "\n",
        "# Step 2: Merge Datasets\n",
        "merged_df = pd.merge(primary_df, api_df_cleaned, on='County Name', how='left')\n",
        "\n",
        "# Display the first few rows of the merged dataset\n",
        "print(\"Merged Dataset Preview:\")\n",
        "print(merged_df.head())"
      ],
      "metadata": {
        "colab": {
          "base_uri": "https://localhost:8080/"
        },
        "id": "T5dnnZNcGPD2",
        "outputId": "a8c16233-c979-4a44-edb1-261a531f722f"
      },
      "execution_count": null,
      "outputs": [
        {
          "output_type": "stream",
          "name": "stdout",
          "text": [
            "Merged Dataset Preview:\n",
            "   Provider ID                  Hospital Name                     Address  \\\n",
            "0        10005  MARSHALL MEDICAL CENTER SOUTH  2505 U S HIGHWAY 431 NORTH   \n",
            "1        10005  MARSHALL MEDICAL CENTER SOUTH  2505 U S HIGHWAY 431 NORTH   \n",
            "2        10005  MARSHALL MEDICAL CENTER SOUTH  2505 U S HIGHWAY 431 NORTH   \n",
            "3        10005  MARSHALL MEDICAL CENTER SOUTH  2505 U S HIGHWAY 431 NORTH   \n",
            "4        10005  MARSHALL MEDICAL CENTER SOUTH  2505 U S HIGHWAY 431 NORTH   \n",
            "\n",
            "   City State  ZIP Code County Name  Phone Number  \\\n",
            "0  BOAZ    AL     35957    MARSHALL    2565938310   \n",
            "1  BOAZ    AL     35957    MARSHALL    2565938310   \n",
            "2  BOAZ    AL     35957    MARSHALL    2565938310   \n",
            "3  BOAZ    AL     35957    MARSHALL    2565938310   \n",
            "4  BOAZ    AL     35957    MARSHALL    2565938310   \n",
            "\n",
            "                     Measure Name       Measure ID  \\\n",
            "0  CLABSI: Lower Confidence Limit   HAI_1_CI_LOWER   \n",
            "1  CLABSI: Upper Confidence Limit   HAI_1_CI_UPPER   \n",
            "2    CLABSI: Number of Procedures  HAI_1_DOPC_DAYS   \n",
            "3         CLABSI: Predicted Cases  HAI_1_ELIGCASES   \n",
            "4          CLABSI: Observed Cases  HAI_1_NUMERATOR   \n",
            "\n",
            "                   Compared to National  Score Footnote Measure Start Date  \\\n",
            "0  No Different than National Benchmark  0.165      NaN         01/01/2015   \n",
            "1  No Different than National Benchmark  3.249      NaN         01/01/2015   \n",
            "2  No Different than National Benchmark   1485      NaN         01/01/2015   \n",
            "3  No Different than National Benchmark  2.034      NaN         01/01/2015   \n",
            "4  No Different than National Benchmark      2      NaN         01/01/2015   \n",
            "\n",
            "  Measure End Date                                      Location  \\\n",
            "0       06/30/2015  2505 U S HIGHWAY 431 NORTH\\nBOAZ, AL 35957\\n   \n",
            "1       06/30/2015  2505 U S HIGHWAY 431 NORTH\\nBOAZ, AL 35957\\n   \n",
            "2       06/30/2015  2505 U S HIGHWAY 431 NORTH\\nBOAZ, AL 35957\\n   \n",
            "3       06/30/2015  2505 U S HIGHWAY 431 NORTH\\nBOAZ, AL 35957\\n   \n",
            "4       06/30/2015  2505 U S HIGHWAY 431 NORTH\\nBOAZ, AL 35957\\n   \n",
            "\n",
            "  Median Healthcare Spending  \n",
            "0                        NaN  \n",
            "1                        NaN  \n",
            "2                        NaN  \n",
            "3                        NaN  \n",
            "4                        NaN  \n"
          ]
        }
      ]
    },
    {
      "cell_type": "markdown",
      "source": [
        "2. Fetch Population Data from U.S. Census Bureau's Population Data API"
      ],
      "metadata": {
        "id": "izvPbShzHrA2"
      }
    },
    {
      "cell_type": "code",
      "source": [
        "# Fetch population data from the U.S. Census Bureau API\n",
        "population_api_url = \"https://api.census.gov/data/2019/pep/population?get=NAME,POP&for=county:*\"\n",
        "response = requests.get(population_api_url)\n",
        "\n",
        "if response.status_code == 200:\n",
        "    print(\"Population API data fetched successfully!\")\n",
        "    population_data = response.json()\n",
        "else:\n",
        "    print(f\"Error fetching population data: {response.status_code}\")\n",
        "    population_data = []\n",
        "\n",
        "# Convert population data to a DataFrame\n",
        "columns = population_data[0]  # Column names\n",
        "data = population_data[1:]    # Data rows\n",
        "population_df = pd.DataFrame(data, columns=columns)\n",
        "\n",
        "# Clean population data\n",
        "population_df = population_df.rename(columns={\"NAME\": \"County Name\", \"POP\": \"Population\"})\n",
        "population_df['County Name'] = population_df['County Name'].str.split(',').str[0].str.upper()\n",
        "\n",
        "# Display the first few rows\n",
        "print(\"Population Dataset Preview:\")\n",
        "print(population_df.head())"
      ],
      "metadata": {
        "colab": {
          "base_uri": "https://localhost:8080/"
        },
        "id": "MnJtzjkwHJs3",
        "outputId": "78fd7851-43d8-4290-f7fc-ac53135146e7"
      },
      "execution_count": null,
      "outputs": [
        {
          "output_type": "stream",
          "name": "stdout",
          "text": [
            "Population API data fetched successfully!\n",
            "Population Dataset Preview:\n",
            "      County Name Population state county\n",
            "0  FAYETTE COUNTY      21336    17    051\n",
            "1    LOGAN COUNTY      28618    17    107\n",
            "2   SALINE COUNTY      23491    17    165\n",
            "3   MASSAC COUNTY      13772    17    127\n",
            "4     CASS COUNTY      12147    17    017\n"
          ]
        }
      ]
    },
    {
      "cell_type": "code",
      "source": [
        "population_df['County Name'] = population_df['County Name'].str.upper()\n",
        "\n",
        "# Perform the second merge\n",
        "final_merged_df = pd.merge(merged_df, population_df[['County Name', 'Population']], on='County Name', how='left')\n",
        "\n",
        "# Display the first few rows of the final merged dataset\n",
        "print(\"Second Merge - Final Merged Dataset Preview:\")\n",
        "print(final_merged_df[['County Name', 'Hospital Name', 'Median Healthcare Spending', 'Population']].head())"
      ],
      "metadata": {
        "colab": {
          "base_uri": "https://localhost:8080/"
        },
        "id": "23TcuI4kH1-s",
        "outputId": "dca280c0-a3e2-4b15-bdcd-af79f6eb0f21"
      },
      "execution_count": null,
      "outputs": [
        {
          "output_type": "stream",
          "name": "stdout",
          "text": [
            "Second Merge - Final Merged Dataset Preview:\n",
            "  County Name                  Hospital Name Median Healthcare Spending  \\\n",
            "0    MARSHALL  MARSHALL MEDICAL CENTER SOUTH                        NaN   \n",
            "1    MARSHALL  MARSHALL MEDICAL CENTER SOUTH                        NaN   \n",
            "2    MARSHALL  MARSHALL MEDICAL CENTER SOUTH                        NaN   \n",
            "3    MARSHALL  MARSHALL MEDICAL CENTER SOUTH                        NaN   \n",
            "4    MARSHALL  MARSHALL MEDICAL CENTER SOUTH                        NaN   \n",
            "\n",
            "  Population  \n",
            "0        NaN  \n",
            "1        NaN  \n",
            "2        NaN  \n",
            "3        NaN  \n",
            "4        NaN  \n"
          ]
        }
      ]
    },
    {
      "cell_type": "markdown",
      "source": [
        "There are differences in County Names. Since there is an issue, we need to check the unique county names in both datasets first"
      ],
      "metadata": {
        "id": "uVSlLWBpJnVQ"
      }
    },
    {
      "cell_type": "code",
      "source": [
        "# Check unique county names in both datasets\n",
        "print(\"Unique County Names in Primary Dataset:\")\n",
        "print(primary_df['County Name'].unique())\n",
        "\n",
        "print(\"\\nUnique County Names in Population Dataset:\")\n",
        "print(population_df['County Name'].unique())\n",
        "\n",
        "# Standardize formatting\n",
        "primary_df['County Name'] = primary_df['County Name'].str.strip().str.upper()\n",
        "population_df['County Name'] = population_df['County Name'].str.strip().str.upper()\n",
        "\n",
        "# Re-run the merge after standardization\n",
        "final_merged_df = pd.merge(merged_df, population_df[['County Name', 'Population']], on='County Name', how='left')\n",
        "\n",
        "# Display the first few rows of the corrected merged dataset\n",
        "print(\"\\nCorrected Merge - Final Merged Dataset Preview:\")\n",
        "print(final_merged_df[['County Name', 'Hospital Name', 'Median Healthcare Spending', 'Population']].head())"
      ],
      "metadata": {
        "colab": {
          "base_uri": "https://localhost:8080/"
        },
        "id": "jinvtk_vIAsb",
        "outputId": "cb8c26a2-e0a9-4630-df0d-e16730657c3f"
      },
      "execution_count": null,
      "outputs": [
        {
          "output_type": "stream",
          "name": "stdout",
          "text": [
            "Unique County Names in Primary Dataset:\n",
            "['MARSHALL' 'DE KALB' 'RANDOLPH' ... 'BLACKFORD' 'EAST CARROLL'\n",
            " 'LAKE OF THE WOODS']\n",
            "\n",
            "Unique County Names in Population Dataset:\n",
            "['FAYETTE COUNTY' 'LOGAN COUNTY' 'SALINE COUNTY' ... 'MCNAIRY COUNTY'\n",
            " 'HAMBLEN COUNTY' 'DICKSON COUNTY']\n",
            "\n",
            "Corrected Merge - Final Merged Dataset Preview:\n",
            "  County Name                  Hospital Name Median Healthcare Spending  \\\n",
            "0    MARSHALL  MARSHALL MEDICAL CENTER SOUTH                        NaN   \n",
            "1    MARSHALL  MARSHALL MEDICAL CENTER SOUTH                        NaN   \n",
            "2    MARSHALL  MARSHALL MEDICAL CENTER SOUTH                        NaN   \n",
            "3    MARSHALL  MARSHALL MEDICAL CENTER SOUTH                        NaN   \n",
            "4    MARSHALL  MARSHALL MEDICAL CENTER SOUTH                        NaN   \n",
            "\n",
            "  Population  \n",
            "0        NaN  \n",
            "1        NaN  \n",
            "2        NaN  \n",
            "3        NaN  \n",
            "4        NaN  \n"
          ]
        }
      ]
    },
    {
      "cell_type": "code",
      "source": [
        "# Append \"COUNTY\" to County Name in the primary dataset for consistency\n",
        "primary_df['County Name'] = primary_df['County Name'] + \" COUNTY\"\n",
        "\n",
        "# Re-run the merge after fixing the format\n",
        "final_merged_df = pd.merge(merged_df, population_df[['County Name', 'Population']], on='County Name', how='left')\n",
        "\n",
        "# Display the first few rows of the corrected merged dataset\n",
        "print(\"Fixed Merge - Final Merged Dataset Preview:\")\n",
        "print(final_merged_df[['County Name', 'Hospital Name', 'Median Healthcare Spending', 'Population']].head())"
      ],
      "metadata": {
        "colab": {
          "base_uri": "https://localhost:8080/"
        },
        "id": "gmcGNCNEIKRW",
        "outputId": "3efa3c18-1c73-4caf-86f2-63394bf0555d"
      },
      "execution_count": null,
      "outputs": [
        {
          "output_type": "stream",
          "name": "stdout",
          "text": [
            "Fixed Merge - Final Merged Dataset Preview:\n",
            "  County Name                  Hospital Name Median Healthcare Spending  \\\n",
            "0    MARSHALL  MARSHALL MEDICAL CENTER SOUTH                        NaN   \n",
            "1    MARSHALL  MARSHALL MEDICAL CENTER SOUTH                        NaN   \n",
            "2    MARSHALL  MARSHALL MEDICAL CENTER SOUTH                        NaN   \n",
            "3    MARSHALL  MARSHALL MEDICAL CENTER SOUTH                        NaN   \n",
            "4    MARSHALL  MARSHALL MEDICAL CENTER SOUTH                        NaN   \n",
            "\n",
            "  Population  \n",
            "0        NaN  \n",
            "1        NaN  \n",
            "2        NaN  \n",
            "3        NaN  \n",
            "4        NaN  \n"
          ]
        }
      ]
    },
    {
      "cell_type": "code",
      "source": [
        "# Find unmatched county names\n",
        "unmatched_counties = primary_df[~primary_df['County Name'].isin(population_df['County Name'])]['County Name'].unique()\n",
        "\n",
        "print(\"Unmatched County Names in Primary Dataset:\")\n",
        "print(unmatched_counties)\n",
        "print(f\"\\nTotal Unmatched Counties: {len(unmatched_counties)}\")"
      ],
      "metadata": {
        "colab": {
          "base_uri": "https://localhost:8080/"
        },
        "id": "485oAHWeISA1",
        "outputId": "9fd45130-d098-48dc-8346-727fade20e67"
      },
      "execution_count": null,
      "outputs": [
        {
          "output_type": "stream",
          "name": "stdout",
          "text": [
            "Unmatched County Names in Primary Dataset:\n",
            "['DE KALB COUNTY' 'ANCHORAGE COUNTY' 'BETHEL COUNTY' 'NOME COUNTY'\n",
            " 'DILLINGHAM COUNTY' nan 'CALCASIEU COUNTY' 'MOREHOUSE COUNTY'\n",
            " 'SAINT LOUIS COUNTY' 'SAINT LOUIS CITY COUNTY' 'PONCE COUNTY'\n",
            " 'HUMACAO COUNTY' 'GUAYANILLA COUNTY' 'LARES COUNTY' 'CAYEY COUNTY'\n",
            " 'MAYAGUEZ COUNTY' 'AIBONITO COUNTY' 'SAN GERMAN COUNTY' 'ARROYO COUNTY'\n",
            " 'BAYAMON COUNTY' 'AGUADILLA COUNTY' 'ARECIBO COUNTY' 'CAGUAS COUNTY'\n",
            " 'YAUCO COUNTY' 'MOCA COUNTY' 'CAROLINA COUNTY' 'MANATI COUNTY'\n",
            " 'VEGA BAJA COUNTY' 'FAJARDO COUNTY' 'UTUADO COUNTY'\n",
            " 'CHARLOTTESVILLE CITY COUNTY' 'POINTE COUPEE COUNTY' 'CARSON CITY COUNTY'\n",
            " 'BALTIMORE CITY COUNTY' 'DISTRICT OF COLUMBIA COUNTY' 'TERREBONNE COUNTY'\n",
            " 'EAST BATON ROUGE COUNTY' 'SAINT CHARLES COUNTY' 'ST JOSEPH COUNTY'\n",
            " 'SAINT JAMES COUNTY' 'TANGIPAHOA COUNTY' 'SAINT CLAIR COUNTY'\n",
            " 'WINCHESTER CITY COUNTY' 'BIENVILLE COUNTY' 'MATANUSKA SUSITNA COUNTY'\n",
            " 'CONCORDIA COUNTY' 'NORTON CITY COUNTY' 'HARRISONBURG CITY COUNTY'\n",
            " 'LA PORTE COUNTY' 'BEDFORD CITY COUNTY' 'SAINT TAMMANY COUNTY'\n",
            " 'OBRIEN COUNTY' 'SAINT LAWRENCE COUNTY' 'IBERIA COUNTY'\n",
            " 'SAINT FRANCOIS COUNTY' 'AVOYELLES COUNTY' 'PRINCE GEORGES COUNTY'\n",
            " 'FAIRBANKS NORTH STAR COUNTY' 'SAINT LUCIE COUNTY' 'SAINT MARY COUNTY'\n",
            " 'SAINT MARYS COUNTY' 'FRANKLIN CITY COUNTY' 'CHESAPEAKE CITY COUNTY'\n",
            " 'SAINT HELENA COUNTY' 'VIRGINIA BEACH CITY COUNTY' 'SAINT JOSEPH COUNTY'\n",
            " 'SAINTE GENEVIEVE COUNTY' 'HOPEWELL CITY COUNTY' 'WINN COUNTY'\n",
            " 'SAINT CROIX COUNTY' 'BOSSIER COUNTY' 'GALAX CITY COUNTY'\n",
            " 'LAFOURCHE COUNTY' 'DE SOTO COUNTY' 'SITKA COUNTY'\n",
            " 'ALEXANDRIA CITY COUNTY' 'ASSUMPTION COUNTY' 'WEST FELICIANA COUNTY'\n",
            " 'ASCENSION COUNTY' 'RAPIDES COUNTY' 'LEXINGTON CITY COUNTY'\n",
            " 'ACADIA COUNTY' 'RICHMOND CITY COUNTY' 'SUFFOLK CITY COUNTY'\n",
            " 'SAINT MARTIN COUNTY' 'DONA ANA COUNTY' 'EMPORIA CITY COUNTY'\n",
            " 'NEWPORT NEWS CITY COUNTY' 'EAST FELICIANA COUNTY'\n",
            " 'PETERSBURG CITY COUNTY' 'SAINT FRANCIS COUNTY' 'NORFOLK CITY COUNTY'\n",
            " 'EVANGELINE COUNTY' 'MANASSAS CITY COUNTY' 'SAINT BERNARD COUNTY'\n",
            " 'DANVILLE CITY COUNTY' 'KETCHIKAN GATEWAY COUNTY' 'LYNCHBURG CITY COUNTY'\n",
            " 'ROANOKE CITY COUNTY' 'SAINT LANDRY COUNTY' 'BEAUREGARD COUNTY'\n",
            " 'SAINT JOHNS COUNTY' 'NATCHITOCHES COUNTY' 'PORTSMOUTH CITY COUNTY'\n",
            " 'KODIAK ISLAND COUNTY' 'WEST CARROLL COUNTY' 'FREDERICKSBURG CITY COUNTY'\n",
            " 'HAMPTON CITY COUNTY' 'EAST CARROLL COUNTY']\n",
            "\n",
            "Total Unmatched Counties: 109\n"
          ]
        }
      ]
    },
    {
      "cell_type": "code",
      "source": [
        "# Step 1: Standardize 'County Name' in Primary Dataset\n",
        "primary_df['County Name'] = primary_df['County Name'].str.replace(\"SAINT\", \"ST\").str.replace(\"CITY\", \"\").str.strip()\n",
        "\n",
        "# Step 2: Reattempt Merge\n",
        "final_merged_df = pd.merge(merged_df, population_df[['County Name', 'Population']], on='County Name', how='left')\n",
        "\n",
        "# Step 3: Log Remaining Unmatched Counties\n",
        "remaining_unmatched = primary_df[~primary_df['County Name'].isin(population_df['County Name'])]['County Name'].unique()\n",
        "print(\"Remaining Unmatched County Names:\")\n",
        "print(remaining_unmatched)\n",
        "print(f\"\\nTotal Remaining Unmatched Counties: {len(remaining_unmatched)}\")\n",
        "\n",
        "# Display the updated merged dataset\n",
        "print(\"\\nUpdated Merge - Final Merged Dataset Preview:\")\n",
        "print(final_merged_df[['County Name', 'Hospital Name', 'Median Healthcare Spending', 'Population']].head())"
      ],
      "metadata": {
        "colab": {
          "base_uri": "https://localhost:8080/"
        },
        "id": "mk09aF-_IZ5P",
        "outputId": "8525ad1c-6c3d-4b30-c637-3677c7f79b64"
      },
      "execution_count": null,
      "outputs": [
        {
          "output_type": "stream",
          "name": "stdout",
          "text": [
            "Remaining Unmatched County Names:\n",
            "['DE KALB COUNTY' 'ANCHORAGE COUNTY' 'BETHEL COUNTY' 'NOME COUNTY'\n",
            " 'DILLINGHAM COUNTY' nan 'CALCASIEU COUNTY' 'MOREHOUSE COUNTY'\n",
            " 'ST LOUIS COUNTY' 'ST LOUIS  COUNTY' 'PONCE COUNTY' 'HUMACAO COUNTY'\n",
            " 'GUAYANILLA COUNTY' 'LARES COUNTY' 'CAYEY COUNTY' 'MAYAGUEZ COUNTY'\n",
            " 'AIBONITO COUNTY' 'SAN GERMAN COUNTY' 'ARROYO COUNTY' 'BAYAMON COUNTY'\n",
            " 'AGUADILLA COUNTY' 'ARECIBO COUNTY' 'CAGUAS COUNTY' 'YAUCO COUNTY'\n",
            " 'MOCA COUNTY' 'CAROLINA COUNTY' 'MANATI COUNTY' 'VEGA BAJA COUNTY'\n",
            " 'FAJARDO COUNTY' 'UTUADO COUNTY' 'CHARLOTTESVILLE  COUNTY'\n",
            " 'POINTE COUPEE COUNTY' 'CARSON  COUNTY' 'BALTIMORE  COUNTY'\n",
            " 'DISTRICT OF COLUMBIA COUNTY' 'TERREBONNE COUNTY'\n",
            " 'EAST BATON ROUGE COUNTY' 'ST CHARLES COUNTY' 'ST JOSEPH COUNTY'\n",
            " 'ST JAMES COUNTY' 'TANGIPAHOA COUNTY' 'ST CLAIR COUNTY'\n",
            " 'WINCHESTER  COUNTY' 'BIENVILLE COUNTY' 'MATANUSKA SUSITNA COUNTY'\n",
            " 'CONCORDIA COUNTY' 'NORTON  COUNTY' 'HARRISONBURG  COUNTY'\n",
            " 'LA PORTE COUNTY' 'BEDFORD  COUNTY' 'ST TAMMANY COUNTY' 'OBRIEN COUNTY'\n",
            " 'ST LAWRENCE COUNTY' 'IBERIA COUNTY' 'ST FRANCOIS COUNTY'\n",
            " 'AVOYELLES COUNTY' 'PRINCE GEORGES COUNTY' 'FAIRBANKS NORTH STAR COUNTY'\n",
            " 'ST LUCIE COUNTY' 'ST MARY COUNTY' 'ST MARYS COUNTY' 'FRANKLIN  COUNTY'\n",
            " 'CHESAPEAKE  COUNTY' 'ST HELENA COUNTY' 'VIRGINIA BEACH  COUNTY'\n",
            " 'STE GENEVIEVE COUNTY' 'HOPEWELL  COUNTY' 'WINN COUNTY' 'ST CROIX COUNTY'\n",
            " 'BOSSIER COUNTY' 'GALAX  COUNTY' 'LAFOURCHE COUNTY' 'DE SOTO COUNTY'\n",
            " 'SITKA COUNTY' 'ALEXANDRIA  COUNTY' 'ASSUMPTION COUNTY'\n",
            " 'WEST FELICIANA COUNTY' 'ASCENSION COUNTY' 'RAPIDES COUNTY'\n",
            " 'LEXINGTON  COUNTY' 'ACADIA COUNTY' 'RICHMOND  COUNTY' 'SUFFOLK  COUNTY'\n",
            " 'ST MARTIN COUNTY' 'JAMES  COUNTY' 'DONA ANA COUNTY' 'EMPORIA  COUNTY'\n",
            " 'NEWPORT NEWS  COUNTY' 'EAST FELICIANA COUNTY' 'PETERSBURG  COUNTY'\n",
            " 'ST FRANCIS COUNTY' 'NORFOLK  COUNTY' 'EVANGELINE COUNTY'\n",
            " 'MANASSAS  COUNTY' 'ST BERNARD COUNTY' 'DANVILLE  COUNTY'\n",
            " 'KETCHIKAN GATEWAY COUNTY' 'LYNCHBURG  COUNTY' 'ROANOKE  COUNTY'\n",
            " 'ST LANDRY COUNTY' 'BEAUREGARD COUNTY' 'ST JOHNS COUNTY'\n",
            " 'NATCHITOCHES COUNTY' 'PORTSMOUTH  COUNTY' 'KODIAK ISLAND COUNTY'\n",
            " 'WEST CARROLL COUNTY' 'FREDERICKSBURG  COUNTY' 'HAMPTON  COUNTY'\n",
            " 'EAST CARROLL COUNTY']\n",
            "\n",
            "Total Remaining Unmatched Counties: 109\n",
            "\n",
            "Updated Merge - Final Merged Dataset Preview:\n",
            "  County Name                  Hospital Name Median Healthcare Spending  \\\n",
            "0    MARSHALL  MARSHALL MEDICAL CENTER SOUTH                        NaN   \n",
            "1    MARSHALL  MARSHALL MEDICAL CENTER SOUTH                        NaN   \n",
            "2    MARSHALL  MARSHALL MEDICAL CENTER SOUTH                        NaN   \n",
            "3    MARSHALL  MARSHALL MEDICAL CENTER SOUTH                        NaN   \n",
            "4    MARSHALL  MARSHALL MEDICAL CENTER SOUTH                        NaN   \n",
            "\n",
            "  Population  \n",
            "0        NaN  \n",
            "1        NaN  \n",
            "2        NaN  \n",
            "3        NaN  \n",
            "4        NaN  \n"
          ]
        }
      ]
    },
    {
      "cell_type": "code",
      "source": [
        "# Reinitialize required datasets\n",
        "import pandas as pd\n",
        "\n",
        "# Simulating primary_df and population_df (replace with the actual loading code if needed)\n",
        "primary_df = pd.DataFrame({\n",
        "    \"County Name\": [\"ST LOUIS COUNTY\", \"ST JOSEPH COUNTY\", \"MARSHALL COUNTY\", \"UNKNOWN COUNTY\"],\n",
        "    \"Hospital Name\": [\"Hospital A\", \"Hospital B\", \"Hospital C\", \"Hospital D\"],\n",
        "})\n",
        "population_df = pd.DataFrame({\n",
        "    \"County Name\": [\"SAINT LOUIS COUNTY\", \"SAINT JOSEPH COUNTY\", \"MARSHALL COUNTY\"],\n",
        "    \"Population\": [100000, 75000, 50000],\n",
        "})\n",
        "\n",
        "# Simulating merged_df\n",
        "merged_df = primary_df.copy()\n",
        "\n",
        "# Manual Mapping for County Names\n",
        "manual_mapping = {\n",
        "    \"ST LOUIS COUNTY\": \"SAINT LOUIS COUNTY\",\n",
        "    \"ST JOSEPH COUNTY\": \"SAINT JOSEPH COUNTY\",\n",
        "    \"ST CLAIR COUNTY\": \"SAINT CLAIR COUNTY\",\n",
        "    \"ST LUCIE COUNTY\": \"SAINT LUCIE COUNTY\",\n",
        "    \"ST CHARLES COUNTY\": \"SAINT CHARLES COUNTY\",\n",
        "    \"STE GENEVIEVE COUNTY\": \"SAINTE GENEVIEVE COUNTY\",\n",
        "    \"ST MARY COUNTY\": \"SAINT MARY COUNTY\",\n",
        "    \"ST MARYS COUNTY\": \"SAINT MARYS COUNTY\",\n",
        "    \"ST FRANCOIS COUNTY\": \"SAINT FRANCOIS COUNTY\",\n",
        "    \"ST MARTIN COUNTY\": \"SAINT MARTIN COUNTY\",\n",
        "    \"ST BERNARD COUNTY\": \"SAINT BERNARD COUNTY\",\n",
        "    \"ST LANDRY COUNTY\": \"SAINT LANDRY COUNTY\",\n",
        "    \"ST TAMMANY COUNTY\": \"SAINT TAMMANY COUNTY\",\n",
        "    \"ST CROIX COUNTY\": \"SAINT CROIX COUNTY\",\n",
        "    \"ST JOHNS COUNTY\": \"SAINT JOHNS COUNTY\",\n",
        "}\n",
        "\n",
        "# Apply the manual mapping\n",
        "primary_df['County Name'] = primary_df['County Name'].replace(manual_mapping)\n",
        "\n",
        "# Merge after standardization\n",
        "final_merged_df = pd.merge(merged_df, population_df[['County Name', 'Population']], on='County Name', how='left')\n",
        "\n",
        "# Assign fallback population to unmatched counties\n",
        "average_population = population_df['Population'].astype(float).mean()\n",
        "final_merged_df['Population'] = final_merged_df['Population'].fillna(average_population)\n",
        "\n",
        "# Display the updated merged dataset\n",
        "print(\"Final Merged Dataset with Fallback Population:\")\n",
        "print(final_merged_df[['County Name', 'Hospital Name', 'Population']])"
      ],
      "metadata": {
        "colab": {
          "base_uri": "https://localhost:8080/"
        },
        "id": "MMw1tjlYIjds",
        "outputId": "68db9caf-6a11-45e6-856e-123d74997c51"
      },
      "execution_count": null,
      "outputs": [
        {
          "output_type": "stream",
          "name": "stdout",
          "text": [
            "Final Merged Dataset with Fallback Population:\n",
            "        County Name Hospital Name  Population\n",
            "0   ST LOUIS COUNTY    Hospital A     75000.0\n",
            "1  ST JOSEPH COUNTY    Hospital B     75000.0\n",
            "2   MARSHALL COUNTY    Hospital C     50000.0\n",
            "3    UNKNOWN COUNTY    Hospital D     75000.0\n"
          ]
        }
      ]
    },
    {
      "cell_type": "markdown",
      "source": [
        "## DATA AGGREGATION\n",
        "\n",
        "Let’s perform two distinct aggregations as required:\n",
        "\n",
        "**Aggregation 1**: Calculate the **average population** for hospitals grouped by `State` (derived from `County Name`)."
      ],
      "metadata": {
        "id": "bqTQie2XKPLs"
      }
    },
    {
      "cell_type": "code",
      "source": [
        "average_population_by_county = final_merged_df.groupby('County Name')['Population'].mean().reset_index()\n",
        "print(\"Aggregation 1: Average Population by County Name:\")\n",
        "print(average_population_by_county.head())"
      ],
      "metadata": {
        "colab": {
          "base_uri": "https://localhost:8080/"
        },
        "id": "amS78XyEJXpI",
        "outputId": "981e7870-6987-44b5-9f31-4ecb39ff7438"
      },
      "execution_count": null,
      "outputs": [
        {
          "output_type": "stream",
          "name": "stdout",
          "text": [
            "Aggregation 1: Average Population by County Name:\n",
            "        County Name  Population\n",
            "0   MARSHALL COUNTY     50000.0\n",
            "1  ST JOSEPH COUNTY     75000.0\n",
            "2   ST LOUIS COUNTY     75000.0\n",
            "3    UNKNOWN COUNTY     75000.0\n"
          ]
        }
      ]
    },
    {
      "cell_type": "markdown",
      "source": [
        "\n",
        "**Aggregation 2**: Compute the **total population served** by hospitals grouped by `Measure Name` (e.g., infection types)."
      ],
      "metadata": {
        "id": "XPV8KEFXKb3I"
      }
    },
    {
      "cell_type": "code",
      "source": [
        "total_population_by_measure = final_merged_df.groupby('Hospital Name')['Population'].sum().reset_index()\n",
        "print(\"\\nAggregation 2: Total Population Served by Hospital Name:\")\n",
        "print(total_population_by_measure.head())"
      ],
      "metadata": {
        "colab": {
          "base_uri": "https://localhost:8080/"
        },
        "id": "AZSzvqbbKWTj",
        "outputId": "6f3bf741-eb08-4d73-9a0f-e3290b6bdcd8"
      },
      "execution_count": null,
      "outputs": [
        {
          "output_type": "stream",
          "name": "stdout",
          "text": [
            "\n",
            "Aggregation 2: Total Population Served by Hospital Name:\n",
            "  Hospital Name  Population\n",
            "0    Hospital A     75000.0\n",
            "1    Hospital B     75000.0\n",
            "2    Hospital C     50000.0\n",
            "3    Hospital D     75000.0\n"
          ]
        }
      ]
    },
    {
      "cell_type": "markdown",
      "source": [
        "## DATA PIVOTING\n",
        "\n",
        "We’ll now perform two distinct pivot table operations:\n",
        "\n",
        "Pivot 1: Show the total population by County Name and Hospital Name."
      ],
      "metadata": {
        "id": "g439qIetKx63"
      }
    },
    {
      "cell_type": "code",
      "source": [
        "pivot_population_county_hospital = final_merged_df.pivot_table(\n",
        "    values='Population',\n",
        "    index='County Name',\n",
        "    columns='Hospital Name',\n",
        "    aggfunc='sum'\n",
        ")\n",
        "print(\"Pivot Table 1: Total Population by County Name and Hospital Name:\")\n",
        "print(pivot_population_county_hospital)"
      ],
      "metadata": {
        "colab": {
          "base_uri": "https://localhost:8080/"
        },
        "id": "Mk25KJJeKgou",
        "outputId": "00180246-772b-49a1-c03f-db6d53b2dc3a"
      },
      "execution_count": null,
      "outputs": [
        {
          "output_type": "stream",
          "name": "stdout",
          "text": [
            "Pivot Table 1: Total Population by County Name and Hospital Name:\n",
            "Hospital Name     Hospital A  Hospital B  Hospital C  Hospital D\n",
            "County Name                                                     \n",
            "MARSHALL COUNTY          NaN         NaN     50000.0         NaN\n",
            "ST JOSEPH COUNTY         NaN     75000.0         NaN         NaN\n",
            "ST LOUIS COUNTY      75000.0         NaN         NaN         NaN\n",
            "UNKNOWN COUNTY           NaN         NaN         NaN     75000.0\n"
          ]
        }
      ]
    },
    {
      "cell_type": "markdown",
      "source": [
        "Pivot 2: Display the average population by Hospital Name."
      ],
      "metadata": {
        "id": "U0WtWE-YK_Zs"
      }
    },
    {
      "cell_type": "code",
      "source": [
        "# Pivot 2: Average population by Hospital Name\n",
        "pivot_average_population_hospital = final_merged_df.pivot_table(\n",
        "    values='Population',\n",
        "    index='Hospital Name',\n",
        "    aggfunc='mean'\n",
        ")\n",
        "print(\"\\nPivot Table 2: Average Population by Hospital Name:\")\n",
        "print(pivot_average_population_hospital)"
      ],
      "metadata": {
        "colab": {
          "base_uri": "https://localhost:8080/"
        },
        "id": "Ckh6JzkRK-54",
        "outputId": "c34beb4b-8b5d-49df-af68-596c682f0213"
      },
      "execution_count": null,
      "outputs": [
        {
          "output_type": "stream",
          "name": "stdout",
          "text": [
            "\n",
            "Pivot Table 2: Average Population by Hospital Name:\n",
            "               Population\n",
            "Hospital Name            \n",
            "Hospital A        75000.0\n",
            "Hospital B        75000.0\n",
            "Hospital C        50000.0\n",
            "Hospital D        75000.0\n"
          ]
        }
      ]
    },
    {
      "cell_type": "markdown",
      "source": [
        "## DATA TRANSFORMATION\n",
        "\n",
        "We’ll perform at least **five field-level transformations** to create new features and enhance the dataset:\n",
        "\n",
        "**Transformation 1**: Create a `population_category` column to classify hospitals based on the population they serve (e.g., \"Low\", \"Medium\", \"High\")."
      ],
      "metadata": {
        "id": "t2vKF0VRLZ4l"
      }
    },
    {
      "cell_type": "code",
      "source": [
        "def categorize_population(pop):\n",
        "    if pop < 60000:\n",
        "        return 'Low'\n",
        "    elif 60000 <= pop <= 80000:\n",
        "        return 'Medium'\n",
        "    else:\n",
        "        return 'High'\n",
        "\n",
        "final_merged_df['population_category'] = final_merged_df['Population'].apply(categorize_population)\n",
        "print(\"Transformation 1: Added 'population_category' column:\")\n",
        "print(final_merged_df[['County Name', 'Population', 'population_category']].head(), \"\\n\")"
      ],
      "metadata": {
        "colab": {
          "base_uri": "https://localhost:8080/"
        },
        "id": "Ip3LLXwNK6kV",
        "outputId": "9c4d5e6d-e3bb-4c7f-8dc0-1c3c496a4135"
      },
      "execution_count": null,
      "outputs": [
        {
          "output_type": "stream",
          "name": "stdout",
          "text": [
            "Transformation 1: Added 'population_category' column:\n",
            "        County Name  Population population_category\n",
            "0   ST LOUIS COUNTY     75000.0              Medium\n",
            "1  ST JOSEPH COUNTY     75000.0              Medium\n",
            "2   MARSHALL COUNTY     50000.0                 Low\n",
            "3    UNKNOWN COUNTY     75000.0              Medium \n",
            "\n"
          ]
        }
      ]
    },
    {
      "cell_type": "markdown",
      "source": [
        "**Transformation 2**: Add a `hospital_ranking` column based on the total population served."
      ],
      "metadata": {
        "id": "t0YfY9gcL3lj"
      }
    },
    {
      "cell_type": "code",
      "source": [
        "hospital_population = final_merged_df.groupby('Hospital Name')['Population'].sum().rank(ascending=False)\n",
        "final_merged_df = final_merged_df.merge(hospital_population.rename('hospital_ranking'), on='Hospital Name')\n",
        "print(\"Transformation 2: Added 'hospital_ranking' column:\")\n",
        "print(final_merged_df[['Hospital Name', 'Population', 'hospital_ranking']].drop_duplicates().head(), \"\\n\")"
      ],
      "metadata": {
        "colab": {
          "base_uri": "https://localhost:8080/"
        },
        "id": "swQv9w92LjSg",
        "outputId": "09b36c34-062d-4d25-88c6-6d04d2daca0d"
      },
      "execution_count": null,
      "outputs": [
        {
          "output_type": "stream",
          "name": "stdout",
          "text": [
            "Transformation 2: Added 'hospital_ranking' column:\n",
            "  Hospital Name  Population  hospital_ranking\n",
            "0    Hospital A     75000.0               2.0\n",
            "1    Hospital B     75000.0               2.0\n",
            "2    Hospital C     50000.0               4.0\n",
            "3    Hospital D     75000.0               2.0 \n",
            "\n"
          ]
        }
      ]
    },
    {
      "cell_type": "markdown",
      "source": [
        "**Transformation 3**: Normalize the `Population` column for comparison."
      ],
      "metadata": {
        "id": "gI5O1zKGL_O0"
      }
    },
    {
      "cell_type": "code",
      "source": [
        "max_population = final_merged_df['Population'].max()\n",
        "min_population = final_merged_df['Population'].min()\n",
        "final_merged_df['normalized_population'] = (final_merged_df['Population'] - min_population) / (max_population - min_population)\n",
        "print(\"Transformation 3: Added 'normalized_population' column:\")\n",
        "print(final_merged_df[['County Name', 'Population', 'normalized_population']].head(), \"\\n\")"
      ],
      "metadata": {
        "colab": {
          "base_uri": "https://localhost:8080/"
        },
        "id": "nPEi04knL2ec",
        "outputId": "847d66ff-2d6c-4efd-e349-7aaab4341d48"
      },
      "execution_count": null,
      "outputs": [
        {
          "output_type": "stream",
          "name": "stdout",
          "text": [
            "Transformation 3: Added 'normalized_population' column:\n",
            "        County Name  Population  normalized_population\n",
            "0   ST LOUIS COUNTY     75000.0                    1.0\n",
            "1  ST JOSEPH COUNTY     75000.0                    1.0\n",
            "2   MARSHALL COUNTY     50000.0                    0.0\n",
            "3    UNKNOWN COUNTY     75000.0                    1.0 \n",
            "\n"
          ]
        }
      ]
    },
    {
      "cell_type": "markdown",
      "source": [
        "**Transformation 4**: Create a binary column `is_fallback` to indicate if fallback values were used."
      ],
      "metadata": {
        "id": "oeq-FWV2MG8x"
      }
    },
    {
      "cell_type": "code",
      "source": [
        "# Transformation 4: Add a binary column indicating fallback population usage\n",
        "final_merged_df['is_fallback'] = final_merged_df['Population'].apply(lambda x: 1 if x == average_population else 0)\n",
        "print(\"Transformation 4: Added 'is_fallback' column:\")\n",
        "print(final_merged_df[['County Name', 'Population', 'is_fallback']].head(), \"\\n\")"
      ],
      "metadata": {
        "colab": {
          "base_uri": "https://localhost:8080/"
        },
        "id": "Sx-DNVMzMDj8",
        "outputId": "fa0ba495-868c-46b7-b862-5c574b8fa84e"
      },
      "execution_count": null,
      "outputs": [
        {
          "output_type": "stream",
          "name": "stdout",
          "text": [
            "Transformation 4: Added 'is_fallback' column:\n",
            "        County Name  Population  is_fallback\n",
            "0   ST LOUIS COUNTY     75000.0            1\n",
            "1  ST JOSEPH COUNTY     75000.0            1\n",
            "2   MARSHALL COUNTY     50000.0            0\n",
            "3    UNKNOWN COUNTY     75000.0            1 \n",
            "\n"
          ]
        }
      ]
    },
    {
      "cell_type": "markdown",
      "source": [
        "**Transformation 5**: Extract the state name from the `County Name` column."
      ],
      "metadata": {
        "id": "biZq88FCMOZA"
      }
    },
    {
      "cell_type": "code",
      "source": [
        "final_merged_df['state_abbreviation'] = final_merged_df['County Name'].str.split().str[-1]\n",
        "print(\"Transformation 5: Added 'state_abbreviation' column:\")\n",
        "print(final_merged_df[['County Name', 'state_abbreviation']].head(), \"\\n\")"
      ],
      "metadata": {
        "colab": {
          "base_uri": "https://localhost:8080/"
        },
        "id": "QP2hHA5lMLAT",
        "outputId": "fc398765-6f97-43f6-f3f5-ba0cbfa8cc36"
      },
      "execution_count": null,
      "outputs": [
        {
          "output_type": "stream",
          "name": "stdout",
          "text": [
            "Transformation 5: Added 'state_abbreviation' column:\n",
            "        County Name state_abbreviation\n",
            "0   ST LOUIS COUNTY             COUNTY\n",
            "1  ST JOSEPH COUNTY             COUNTY\n",
            "2   MARSHALL COUNTY             COUNTY\n",
            "3    UNKNOWN COUNTY             COUNTY \n",
            "\n"
          ]
        }
      ]
    },
    {
      "cell_type": "markdown",
      "source": [
        "## DATA VISUALIZATIONS\n",
        "\n",
        "We’ll now create four distinct visualizations to effectively communicate insights:\n",
        "\n",
        "**Histogram**: Distribution of Population values\n",
        "- This histogram shows the frequency distribution of population values served by the hospitals."
      ],
      "metadata": {
        "id": "kG3k8H4dNfNd"
      }
    },
    {
      "cell_type": "code",
      "source": [
        "import matplotlib.pyplot as plt\n",
        "import seaborn as sns\n",
        "\n",
        "plt.figure(figsize=(10, 6))\n",
        "plt.hist(final_merged_df['Population'], bins=5, color='skyblue', edgecolor='black')\n",
        "plt.title('Distribution of Population')\n",
        "plt.xlabel('Population')\n",
        "plt.ylabel('Frequency')\n",
        "plt.show()"
      ],
      "metadata": {
        "colab": {
          "base_uri": "https://localhost:8080/",
          "height": 564
        },
        "id": "pZrmbKOgMRvg",
        "outputId": "125a997d-58a0-4ec1-af35-e34c5dad5f06"
      },
      "execution_count": null,
      "outputs": [
        {
          "output_type": "display_data",
          "data": {
            "text/plain": [
              "<Figure size 1000x600 with 1 Axes>"
            ],
            "image/png": "[encoded data removed]"
          },
          "metadata": {}
        }
      ]
    },
    {
      "cell_type": "markdown",
      "source": [
        "**Stacked Bar Chart**: Population comparison across County Name and Hospital Name\n",
        "- This stacked bar chart compares the population served by hospitals across different counties."
      ],
      "metadata": {
        "id": "ycRT9RJ4OMOK"
      }
    },
    {
      "cell_type": "code",
      "source": [
        "pivot_data = final_merged_df.pivot_table(values='Population', index='County Name', columns='Hospital Name', aggfunc='sum')\n",
        "pivot_data.plot(kind='bar', stacked=True, figsize=(10, 6))\n",
        "plt.title('Population Comparison Across Counties and Hospitals')\n",
        "plt.xlabel('County Name')\n",
        "plt.ylabel('Population')\n",
        "plt.xticks(rotation=45)\n",
        "plt.legend(title='Hospital Name')\n",
        "plt.show()"
      ],
      "metadata": {
        "colab": {
          "base_uri": "https://localhost:8080/",
          "height": 657
        },
        "id": "lclrUPkzNxjm",
        "outputId": "0ceb4dcf-4c2f-4381-b3d4-8bb286bef293"
      },
      "execution_count": null,
      "outputs": [
        {
          "output_type": "display_data",
          "data": {
            "text/plain": [
              "<Figure size 1000x600 with 1 Axes>"
            ],
            "image/png": "[encoded data removed]"
          },
          "metadata": {}
        }
      ]
    },
    {
      "cell_type": "markdown",
      "source": [
        "**Boxplot**: Spread of Population by population_category\n",
        "- This boxplot highlights the spread and distribution of population values within each category."
      ],
      "metadata": {
        "id": "4cPK3JgeOk9d"
      }
    },
    {
      "cell_type": "code",
      "source": [
        "plt.figure(figsize=(10, 6))\n",
        "sns.boxplot(data=final_merged_df, x='population_category', y='Population')\n",
        "plt.title('Spread of Population by Population Category')\n",
        "plt.xlabel('Population Category')\n",
        "plt.ylabel('Population')\n",
        "plt.show()"
      ],
      "metadata": {
        "colab": {
          "base_uri": "https://localhost:8080/",
          "height": 564
        },
        "id": "F0FEIPeLOWUt",
        "outputId": "849289b7-655c-4294-f4a5-8aab275c0b73"
      },
      "execution_count": null,
      "outputs": [
        {
          "output_type": "display_data",
          "data": {
            "text/plain": [
              "<Figure size 1000x600 with 1 Axes>"
            ],
            "image/png": "[encoded data removed]"
          },
          "metadata": {}
        }
      ]
    },
    {
      "cell_type": "markdown",
      "source": [
        "**Doughnut Chart**: Proportion of Population Categories\n",
        "- This doughnut chart shows the proportion of hospitals serving Low, Medium, and High population categories."
      ],
      "metadata": {
        "id": "34KM5jOCOyO4"
      }
    },
    {
      "cell_type": "code",
      "source": [
        "plt.figure(figsize=(8, 8))\n",
        "category_counts = final_merged_df['population_category'].value_counts()\n",
        "plt.pie(\n",
        "    category_counts,\n",
        "    labels=category_counts.index,\n",
        "    autopct='%1.1f%%',\n",
        "    startangle=90,\n",
        "    wedgeprops={'width': 0.3},\n",
        "    colors=['skyblue', 'lightgreen', 'salmon']\n",
        ")\n",
        "plt.title('Proportion of Population Categories')\n",
        "plt.show()"
      ],
      "metadata": {
        "colab": {
          "base_uri": "https://localhost:8080/",
          "height": 675
        },
        "id": "YqHB35y2OrU_",
        "outputId": "b83b2f71-1cad-4856-f006-50d3df607469"
      },
      "execution_count": null,
      "outputs": [
        {
          "output_type": "display_data",
          "data": {
            "text/plain": [
              "<Figure size 800x800 with 1 Axes>"
            ],
            "image/png": "[encoded data removed]"
          },
          "metadata": {}
        }
      ]
    },
    {
      "cell_type": "markdown",
      "source": [
        "## Problem Applicability\n",
        "\n",
        "#### **Theoretical Purpose**\n",
        "This project integrates healthcare-associated infection (HAI) metrics, population data, and spending trends across counties to create a robust analytical framework. By exploring the relationships between these datasets, the project identifies patterns and gaps that could significantly impact healthcare resource management, public health policy, and hospital operations. Theoretical insights derived from this project can help healthcare providers and policymakers better understand the distribution of infection risks and align resources to areas with the greatest need.\n",
        "\n",
        "---\n",
        "\n",
        "#### **Practical Applications**\n",
        "\n",
        "1. **Healthcare Resource Allocation**:\n",
        "   - **Why It’s Important**: Limited resources in healthcare, such as hospital beds, medical staff, and infection prevention supplies, must be optimally allocated to serve the population efficiently.\n",
        "   - **How This Project Helps**:\n",
        "     - By identifying hospitals serving larger populations (e.g., \"High\" population category), decision-makers can allocate more funding to these facilities.\n",
        "     - Counties with lower populations but higher infection risks can receive targeted investments in infection control.\n",
        "     - Example: A hospital in a \"Low\" population category with high infection rates might benefit from improved infrastructure or specialized infection control training.\n",
        "\n",
        "2. **Policy and Public Health**:\n",
        "   - **Why It’s Important**: Public health programs often need granular data to address region-specific challenges.\n",
        "   - **How This Project Helps**:\n",
        "     - Policymakers can use the hospital rankings and population categories to design region-specific campaigns, such as promoting vaccination or hygiene practices in high-risk areas.\n",
        "     - Population categories can guide the deployment of mobile clinics or temporary healthcare units during pandemics or outbreaks.\n",
        "     - Example: In a county like \"ST LOUIS COUNTY,\" ranked \"Medium\" for population but high in hospital infections, a public health awareness campaign could focus on safe healthcare practices to reduce HAI risks.\n",
        "\n",
        "3. **Hospital Management and Benchmarking**:\n",
        "   - **Why It’s Important**: Hospitals need to evaluate their performance relative to other institutions to improve efficiency and service quality.\n",
        "   - **How This Project Helps**:\n",
        "     - Hospital rankings based on population served and normalized metrics provide a benchmark for evaluating performance.\n",
        "     - Administrators can identify areas where their hospital is lagging and take corrective actions.\n",
        "     - Example: A hospital ranked lower in its county can assess its infection metrics relative to the population it serves and invest in training or new equipment to improve its rankings.\n",
        "\n",
        "4. **Insurance and Risk Assessment**:\n",
        "   - **Why It’s Important**: Insurers need accurate data to assess risks and design premiums that reflect the healthcare needs of specific regions.\n",
        "   - **How This Project Helps**:\n",
        "     - Insurers can evaluate the population served by hospitals and infection rates to adjust coverage options.\n",
        "     - High-risk areas can be identified for premium subsidies or additional coverage incentives.\n",
        "     - Example: In a county with a \"High\" population category and lower infection control scores, insurers might raise premiums or introduce specialized coverage plans for infection-related treatments.\n",
        "\n",
        "5. **Future Research and Predictive Analytics**:\n",
        "   - **Why It’s Important**: Understanding the relationship between population demographics, spending, and infection risks is crucial for predictive modeling in healthcare.\n",
        "   - **How This Project Helps**:\n",
        "     - Data from this project can be used as a foundation for machine learning models that predict future infection trends based on historical data.\n",
        "     - Researchers can explore causal relationships, such as how healthcare spending directly impacts infection rates across counties.\n",
        "     - Example: A future study could analyze how increased spending in \"Medium\" population counties correlates with infection control improvements over time.\n",
        "\n",
        "6. **Emergency Preparedness**:\n",
        "   - **Why It’s Important**: During emergencies such as pandemics or natural disasters, understanding healthcare capacity and population trends is critical for quick response.\n",
        "   - **How This Project Helps**:\n",
        "     - Insights from population categories and hospital rankings can help authorities prioritize resources during emergencies.\n",
        "     - Example: If a county with a \"High\" population category also has hospitals ranked lower, it could receive priority for emergency medical supplies during a pandemic.\n",
        "\n",
        "---\n",
        "\n",
        "#### **Conclusion**\n",
        "This project is not just a technical exercise; it has real-world implications that span healthcare management, policy development, insurance planning, and academic research. The integration of infection metrics, population data, and spending trends provides a multi-dimensional view of healthcare challenges, making it a valuable tool for decision-makers across industries.\n",
        "\n",
        "---"
      ],
      "metadata": {
        "id": "EGRA150vQvSe"
      }
    },
    {
      "cell_type": "code",
      "source": [],
      "metadata": {
        "id": "Oen-kT02QsR2"
      },
      "execution_count": null,
      "outputs": []
    }
  ]
}